{
  "cells": [
    {
      "cell_type": "markdown",
      "metadata": {
        "id": "view-in-github",
        "colab_type": "text"
      },
      "source": [
        "<a href=\"https://colab.research.google.com/github/muhammadanas2365/JWAS.jl/blob/master/Genome_wide_association_studies_using_JWAS1.ipynb\" target=\"_parent\"><img src=\"https://colab.research.google.com/assets/colab-badge.svg\" alt=\"Open In Colab\"/></a>"
      ]
    },
    {
      "cell_type": "markdown",
      "id": "3b7e7374",
      "metadata": {
        "id": "3b7e7374"
      },
      "source": [
        "# Application of Bayesian multiple regression methods to GWAS"
      ]
    },
    {
      "cell_type": "markdown",
      "id": "0d95b290",
      "metadata": {
        "id": "0d95b290"
      },
      "source": [
        "Bayesian multiple regression methods were developed to simultaneously fit all genotyped markers to phenotypes, allowing for **different assumptions of genetic architecture** (distribution of marker effects) of traits. These methods provide a flexible and reliable framework for genome-wide association studies (GWAS), especially the **Bayesian variable selection (BVS) models** with mixture prior, such as the BayesC and BayesB that implemented in **JWAS**."
      ]
    },
    {
      "cell_type": "code",
      "source": [
        "%%shell\n",
        "set -e\n",
        "\n",
        "#---------------------------------------------------#\n",
        "JULIA_VERSION=\"1.7.1\" # any version ≥ 0.7.0\n",
        "JULIA_PACKAGES=\"IJulia CSV DataFrames Random Statistics Distributions LinearAlgebra SparseArrays Printf JWAS\"  # CSV DataFrames Random Statistics JWAS Distributions LinearAlgebra\n",
        "JULIA_PACKAGES_IF_GPU=\"\"\n",
        "JULIA_NUM_THREADS=4\n",
        "#---------------------------------------------------#\n",
        "\n",
        "if [ -n \"$COLAB_GPU\" ] && [ -z `which julia` ]; then\n",
        "  # Install Julia\n",
        "  JULIA_VER=`cut -d '.' -f -2 <<< \"$JULIA_VERSION\"`\n",
        "  echo \"Installing Julia $JULIA_VERSION on the current Colab Runtime...\"\n",
        "  BASE_URL=\"https://julialang-s3.julialang.org/bin/linux/x64\"\n",
        "  URL=\"$BASE_URL/$JULIA_VER/julia-$JULIA_VERSION-linux-x86_64.tar.gz\"\n",
        "  wget -nv $URL -O /tmp/julia.tar.gz # -nv means \"not verbose\"\n",
        "  tar -x -f /tmp/julia.tar.gz -C /usr/local --strip-components 1\n",
        "  rm /tmp/julia.tar.gz\n",
        "\n",
        "  # Install Packages\n",
        "  if [ \"$COLAB_GPU\" = \"1\" ]; then\n",
        "      JULIA_PACKAGES=\"$JULIA_PACKAGES $JULIA_PACKAGES_IF_GPU\"\n",
        "  fi\n",
        "  for PKG in `echo $JULIA_PACKAGES`; do\n",
        "    echo \"Installing Julia package $PKG...\"\n",
        "    julia -e 'using Pkg; pkg\"add '$PKG'; precompile;\"' &> /dev/null\n",
        "  done\n",
        "\n",
        "  # Install kernel and rename it to \"julia\"\n",
        "  echo \"Installing IJulia kernel...\"\n",
        "  julia -e 'using IJulia; IJulia.installkernel(\"julia\", env=Dict(\n",
        "      \"JULIA_NUM_THREADS\"=>\"'\"$JULIA_NUM_THREADS\"'\"))'\n",
        "  KERNEL_DIR=`julia -e \"using IJulia; print(IJulia.kerneldir())\"`\n",
        "  KERNEL_NAME=`ls -d \"$KERNEL_DIR\"/julia*`\n",
        "  mv -f $KERNEL_NAME \"$KERNEL_DIR\"/julia  \n",
        "\n",
        "  echo ''\n",
        "  echo \"Successfully installed `julia -v`!\"\n",
        "  echo \"Please reload this page (press Ctrl+R, ⌘+R, or the F5 key) then\"\n",
        "  echo \"jump to the 'Checking the Installation' section.\"\n",
        "fi"
      ],
      "metadata": {
        "id": "MkAP8rYkeqUD",
        "outputId": "4b902a0e-d6e8-4763-9f27-7210c5ed0f8d",
        "colab": {
          "base_uri": "https://localhost:8080/",
          "height": 1000
        }
      },
      "id": "MkAP8rYkeqUD",
      "execution_count": 2,
      "outputs": [
        {
          "output_type": "stream",
          "name": "stdout",
          "text": [
            "Installing Julia 1.7.1 on the current Colab Runtime...\n",
            "2022-08-02 16:54:13 URL:https://storage.googleapis.com/julialang2/bin/linux/x64/1.7/julia-1.7.1-linux-x86_64.tar.gz [123374573/123374573] -> \"/tmp/julia.tar.gz\" [1]\n",
            "Installing Julia package IJulia...\n"
          ]
        },
        {
          "output_type": "error",
          "ename": "CalledProcessError",
          "evalue": "ignored",
          "traceback": [
            "\u001b[0;31m---------------------------------------------------------------------------\u001b[0m",
            "\u001b[0;31mCalledProcessError\u001b[0m                        Traceback (most recent call last)",
            "\u001b[0;32m<ipython-input-2-c5a650bbdd0b>\u001b[0m in \u001b[0;36m<module>\u001b[0;34m()\u001b[0m\n\u001b[0;32m----> 1\u001b[0;31m \u001b[0mget_ipython\u001b[0m\u001b[0;34m(\u001b[0m\u001b[0;34m)\u001b[0m\u001b[0;34m.\u001b[0m\u001b[0mrun_cell_magic\u001b[0m\u001b[0;34m(\u001b[0m\u001b[0;34m'shell'\u001b[0m\u001b[0;34m,\u001b[0m \u001b[0;34m''\u001b[0m\u001b[0;34m,\u001b[0m \u001b[0;34m'set -e\\n\\n#---------------------------------------------------#\\nJULIA_VERSION=\"1.7.1\" # any version ≥ 0.7.0\\nJULIA_PACKAGES=\"IJulia CSV DataFrames Random Statistics Distributions LinearAlgebra SparseArrays Printf JWAS\"  # CSV DataFrames Random Statistics JWAS Distributions LinearAlgebra\\nJULIA_PACKAGES_IF_GPU=\"\"\\nJULIA_NUM_THREADS=4\\n#---------------------------------------------------#\\n\\nif [ -n \"$COLAB_GPU\" ] && [ -z `which julia` ]; then\\n  # Install Julia\\n  JULIA_VER=`cut -d \\'.\\' -f -2 <<< \"$JULIA_VERSION\"`\\n  echo \"Installing Julia $JULIA_VERSION on the current Colab Runtime...\"\\n  BASE_URL=\"https://julialang-s3.julialang.org/bin/linux/x64\"\\n  URL=\"$BASE_URL/$JULIA_VER/julia-$JULIA_VERSION-linux-x86_64.tar.gz\"\\n  wget -nv $URL -O /tmp/julia.tar.gz # -nv means \"not verbose\"\\n  tar -x -f /tmp/julia.tar.gz -C /usr/local --strip-components 1\\n  rm /tmp/julia.tar.gz\\n\\n  # Install Packages\\n  if [ \"$COLAB_GPU\" = \"1\" ]; then\\n      JULIA_PACKAGES=\"$JULIA_PACKAGES $JULIA_PACKAGES_IF_GPU\"\\n  fi\\n  for PKG in `echo $JULIA_PACKAGES`; do\\n    echo \"Installing Julia package $PKG...\"\\n    julia -e \\'using Pkg; pkg\"add \\'$PKG\\'; precompile;\"\\' &> /dev/null\\n  done\\n\\n  # Install kernel and rename it to \"julia\"\\n  echo \"Installing IJulia kernel...\"\\n  julia -e \\'using IJulia; IJulia.installkernel(\"julia\", ...\n\u001b[0m",
            "\u001b[0;32m/usr/local/lib/python3.7/dist-packages/IPython/core/interactiveshell.py\u001b[0m in \u001b[0;36mrun_cell_magic\u001b[0;34m(self, magic_name, line, cell)\u001b[0m\n\u001b[1;32m   2115\u001b[0m             \u001b[0mmagic_arg_s\u001b[0m \u001b[0;34m=\u001b[0m \u001b[0mself\u001b[0m\u001b[0;34m.\u001b[0m\u001b[0mvar_expand\u001b[0m\u001b[0;34m(\u001b[0m\u001b[0mline\u001b[0m\u001b[0;34m,\u001b[0m \u001b[0mstack_depth\u001b[0m\u001b[0;34m)\u001b[0m\u001b[0;34m\u001b[0m\u001b[0;34m\u001b[0m\u001b[0m\n\u001b[1;32m   2116\u001b[0m             \u001b[0;32mwith\u001b[0m \u001b[0mself\u001b[0m\u001b[0;34m.\u001b[0m\u001b[0mbuiltin_trap\u001b[0m\u001b[0;34m:\u001b[0m\u001b[0;34m\u001b[0m\u001b[0;34m\u001b[0m\u001b[0m\n\u001b[0;32m-> 2117\u001b[0;31m                 \u001b[0mresult\u001b[0m \u001b[0;34m=\u001b[0m \u001b[0mfn\u001b[0m\u001b[0;34m(\u001b[0m\u001b[0mmagic_arg_s\u001b[0m\u001b[0;34m,\u001b[0m \u001b[0mcell\u001b[0m\u001b[0;34m)\u001b[0m\u001b[0;34m\u001b[0m\u001b[0;34m\u001b[0m\u001b[0m\n\u001b[0m\u001b[1;32m   2118\u001b[0m             \u001b[0;32mreturn\u001b[0m \u001b[0mresult\u001b[0m\u001b[0;34m\u001b[0m\u001b[0;34m\u001b[0m\u001b[0m\n\u001b[1;32m   2119\u001b[0m \u001b[0;34m\u001b[0m\u001b[0m\n",
            "\u001b[0;32m/usr/local/lib/python3.7/dist-packages/google/colab/_system_commands.py\u001b[0m in \u001b[0;36m_shell_cell_magic\u001b[0;34m(args, cmd)\u001b[0m\n\u001b[1;32m    107\u001b[0m   \u001b[0mresult\u001b[0m \u001b[0;34m=\u001b[0m \u001b[0m_run_command\u001b[0m\u001b[0;34m(\u001b[0m\u001b[0mcmd\u001b[0m\u001b[0;34m,\u001b[0m \u001b[0mclear_streamed_output\u001b[0m\u001b[0;34m=\u001b[0m\u001b[0;32mFalse\u001b[0m\u001b[0;34m)\u001b[0m\u001b[0;34m\u001b[0m\u001b[0;34m\u001b[0m\u001b[0m\n\u001b[1;32m    108\u001b[0m   \u001b[0;32mif\u001b[0m \u001b[0;32mnot\u001b[0m \u001b[0mparsed_args\u001b[0m\u001b[0;34m.\u001b[0m\u001b[0mignore_errors\u001b[0m\u001b[0;34m:\u001b[0m\u001b[0;34m\u001b[0m\u001b[0;34m\u001b[0m\u001b[0m\n\u001b[0;32m--> 109\u001b[0;31m     \u001b[0mresult\u001b[0m\u001b[0;34m.\u001b[0m\u001b[0mcheck_returncode\u001b[0m\u001b[0;34m(\u001b[0m\u001b[0;34m)\u001b[0m\u001b[0;34m\u001b[0m\u001b[0;34m\u001b[0m\u001b[0m\n\u001b[0m\u001b[1;32m    110\u001b[0m   \u001b[0;32mreturn\u001b[0m \u001b[0mresult\u001b[0m\u001b[0;34m\u001b[0m\u001b[0;34m\u001b[0m\u001b[0m\n\u001b[1;32m    111\u001b[0m \u001b[0;34m\u001b[0m\u001b[0m\n",
            "\u001b[0;32m/usr/local/lib/python3.7/dist-packages/google/colab/_system_commands.py\u001b[0m in \u001b[0;36mcheck_returncode\u001b[0;34m(self)\u001b[0m\n\u001b[1;32m    133\u001b[0m     \u001b[0;32mif\u001b[0m \u001b[0mself\u001b[0m\u001b[0;34m.\u001b[0m\u001b[0mreturncode\u001b[0m\u001b[0;34m:\u001b[0m\u001b[0;34m\u001b[0m\u001b[0;34m\u001b[0m\u001b[0m\n\u001b[1;32m    134\u001b[0m       raise subprocess.CalledProcessError(\n\u001b[0;32m--> 135\u001b[0;31m           returncode=self.returncode, cmd=self.args, output=self.output)\n\u001b[0m\u001b[1;32m    136\u001b[0m \u001b[0;34m\u001b[0m\u001b[0m\n\u001b[1;32m    137\u001b[0m   \u001b[0;32mdef\u001b[0m \u001b[0m_repr_pretty_\u001b[0m\u001b[0;34m(\u001b[0m\u001b[0mself\u001b[0m\u001b[0;34m,\u001b[0m \u001b[0mp\u001b[0m\u001b[0;34m,\u001b[0m \u001b[0mcycle\u001b[0m\u001b[0;34m)\u001b[0m\u001b[0;34m:\u001b[0m  \u001b[0;31m# pylint:disable=unused-argument\u001b[0m\u001b[0;34m\u001b[0m\u001b[0;34m\u001b[0m\u001b[0m\n",
            "\u001b[0;31mCalledProcessError\u001b[0m: Command 'set -e\n\n#---------------------------------------------------#\nJULIA_VERSION=\"1.7.1\" # any version ≥ 0.7.0\nJULIA_PACKAGES=\"IJulia CSV DataFrames Random Statistics Distributions LinearAlgebra SparseArrays Printf JWAS\"  # CSV DataFrames Random Statistics JWAS Distributions LinearAlgebra\nJULIA_PACKAGES_IF_GPU=\"\"\nJULIA_NUM_THREADS=4\n#---------------------------------------------------#\n\nif [ -n \"$COLAB_GPU\" ] && [ -z `which julia` ]; then\n  # Install Julia\n  JULIA_VER=`cut -d '.' -f -2 <<< \"$JULIA_VERSION\"`\n  echo \"Installing Julia $JULIA_VERSION on the current Colab Runtime...\"\n  BASE_URL=\"https://julialang-s3.julialang.org/bin/linux/x64\"\n  URL=\"$BASE_URL/$JULIA_VER/julia-$JULIA_VERSION-linux-x86_64.tar.gz\"\n  wget -nv $URL -O /tmp/julia.tar.gz # -nv means \"not verbose\"\n  tar -x -f /tmp/julia.tar.gz -C /usr/local --strip-components 1\n  rm /tmp/julia.tar.gz\n\n  # Install Packages\n  if [ \"$COLAB_GPU\" = \"1\" ]; then\n      JULIA_PACKAGES=\"$JULIA_PACKAGES $JULIA_PACKAGES_IF_GPU\"\n  fi\n  for PKG in `echo $JULIA_PACKAGES`; do\n    echo \"Installing Julia package $PKG...\"\n    julia -e 'using Pkg; pkg\"add '$PKG'; precompile;\"' &> /dev/null\n  done\n\n  # Install kernel and rename it to \"julia\"\n  echo \"Installing IJulia kernel...\"\n  julia -e 'using IJulia; IJulia.installkernel(\"julia\", env=Dict(\n      \"JULIA_NUM_THREADS\"=>\"'\"$JULIA_NUM_THREADS\"'\"))'\n  KERNEL_DIR=`julia -e \"using IJulia; print(IJulia.kerneldir())\"`\n  KERNEL_NAME=`ls -d \"$KERNEL_DIR\"/julia*`\n  mv -f $KERNEL_NAME \"$KERNEL_DIR\"/julia  \n\n  echo ''\n  echo \"Successfully installed `julia -v`!\"\n  echo \"Please reload this page (press Ctrl+R, ⌘+R, or the F5 key) then\"\n  echo \"jump to the 'Checking the Installation' section.\"\nfi' returned non-zero exit status 1."
          ]
        }
      ]
    },
    {
      "cell_type": "code",
      "execution_count": 1,
      "id": "0925130d",
      "metadata": {
        "scrolled": true,
        "id": "0925130d",
        "outputId": "b5bcd332-765f-4a72-a06b-008d123a82c9",
        "colab": {
          "base_uri": "https://localhost:8080/",
          "height": 130
        }
      },
      "outputs": [
        {
          "output_type": "error",
          "ename": "SyntaxError",
          "evalue": "ignored",
          "traceback": [
            "\u001b[0;36m  File \u001b[0;32m\"<ipython-input-1-983349c51ee5>\"\u001b[0;36m, line \u001b[0;32m1\u001b[0m\n\u001b[0;31m    using JWAS,DataFrames,CSV,Statistics,JWAS.Datasets;\u001b[0m\n\u001b[0m             ^\u001b[0m\n\u001b[0;31mSyntaxError\u001b[0m\u001b[0;31m:\u001b[0m invalid syntax\n"
          ]
        }
      ],
      "source": [
        "using JWAS,DataFrames,CSV,Statistics,JWAS.Datasets;\n",
        "phenofile  = dataset(\"phenotypes.csv\")\n",
        "genofile   = dataset(\"genotypes.csv\")\n",
        "phenotypes = CSV.read(phenofile,DataFrame,delim = ',',header=true,missingstrings=[\"NA\"]);"
      ]
    },
    {
      "cell_type": "code",
      "source": [
        ""
      ],
      "metadata": {
        "id": "ED7CcAJKenvZ"
      },
      "id": "ED7CcAJKenvZ",
      "execution_count": null,
      "outputs": []
    },
    {
      "cell_type": "markdown",
      "id": "d5cb3ae7",
      "metadata": {
        "id": "d5cb3ae7"
      },
      "source": [
        "## Bayesian Alphabet Methods"
      ]
    },
    {
      "cell_type": "markdown",
      "id": "acaa7b63",
      "metadata": {
        "id": "acaa7b63"
      },
      "source": [
        "* **BayesA** \n",
        "\n",
        "Each marker has a normal distribution with its own variance: $\\alpha_i \\sim N(0,\\sigma^2_i)$\n",
        "\n",
        "* **BayesB**\n",
        "\n",
        "BayesA with a proportion of genetic markers having zero effects: $\\alpha_i \\sim \\left\\{\n",
        "  \\begin{array}\\\\\n",
        "    N(0,\\sigma^2_i) & \\text{probability}\\ (1-\\pi) \\\\\n",
        "    0 & \\text{probability}\\ (\\pi)\n",
        "  \\end{array} \\right. $\n",
        "  \n",
        "* **BayesC**\n",
        "\n",
        "A proportion of genetic markers having zero effects, and the others follow a normal distribution with a common variance: $\\alpha_i \\sim \\left\\{\n",
        "  \\begin{array}\\\\\n",
        "    N(0,\\sigma^2_\\alpha) & \\text{probability}\\ (1-\\pi) \\\\\n",
        "    0 & \\text{probability}\\ (\\pi)\n",
        "  \\end{array} \\right. $\n",
        "  \n",
        "* **BayesC0 (equivalent to GBLUP)**\n",
        "\n",
        "Each marker has a normal distribution with a common variance: $\\alpha_i \\sim N(0,\\sigma_\\alpha^2)$\n",
        "\n",
        "\n"
      ]
    },
    {
      "cell_type": "code",
      "execution_count": null,
      "id": "1ed8a6c4",
      "metadata": {
        "id": "1ed8a6c4"
      },
      "outputs": [],
      "source": [
        "genotypes  = get_genotypes(genofile,separator=',',method=\"BayesC\");"
      ]
    },
    {
      "cell_type": "markdown",
      "id": "b96ada18",
      "metadata": {
        "id": "b96ada18"
      },
      "source": [
        "---"
      ]
    },
    {
      "cell_type": "markdown",
      "id": "af33894f",
      "metadata": {
        "id": "af33894f"
      },
      "source": [
        "## Inference of single marker and group of markers (genomic window)"
      ]
    },
    {
      "cell_type": "markdown",
      "id": "92dcea37",
      "metadata": {
        "id": "92dcea37"
      },
      "source": [
        "* **Inference of single marker**: posterior inclusion probability (referred to as model frequency in JWAS) of single markers"
      ]
    },
    {
      "cell_type": "markdown",
      "id": "51911b83",
      "metadata": {
        "id": "51911b83"
      },
      "source": [
        "$$PIP_i = \\frac{\\sum_{n_t} \\mathbf{1}_{\\alpha^{(t)}_i \\neq 0}}{n_t}$$"
      ]
    },
    {
      "cell_type": "markdown",
      "id": "f940195c",
      "metadata": {
        "id": "f940195c"
      },
      "source": [
        "   **Single Trait Analysis**"
      ]
    },
    {
      "cell_type": "code",
      "execution_count": null,
      "id": "41621e89",
      "metadata": {
        "id": "41621e89"
      },
      "outputs": [],
      "source": [
        "# Step 3: Build Model Equations\n",
        "model_equation  =\"y1 = intercept + x1 + x2 + genotypes\";\n",
        "model = build_model(model_equation);\n",
        "# Step 4: Set Factors or Covariates\n",
        "set_covariate(model,\"x1\");\n",
        "# Step 5: Set Random or Fixed Effects\n",
        "set_random(model,\"x2\");\n",
        "out=runMCMC(model,phenotypes,chain_length = 100);"
      ]
    },
    {
      "cell_type": "code",
      "execution_count": null,
      "id": "5a9fe794",
      "metadata": {
        "id": "5a9fe794"
      },
      "outputs": [],
      "source": [
        "marker_effects_file=\"results/MCMC_samples_marker_effects_genotypes_y1.txt\"\n",
        "GWAS(marker_effects_file,header=true)"
      ]
    },
    {
      "cell_type": "markdown",
      "id": "117b1917",
      "metadata": {
        "id": "117b1917"
      },
      "source": [
        " **Multiple Trait Analysis**"
      ]
    },
    {
      "cell_type": "code",
      "execution_count": null,
      "id": "58757a9e",
      "metadata": {
        "id": "58757a9e"
      },
      "outputs": [],
      "source": [
        "pedfile    = dataset(\"pedigree.csv\")\n",
        "pedigree   = get_pedigree(pedfile,separator=\",\",header=true);\n",
        "genotypes  = get_genotypes(genofile,separator=',',method=\"BayesC\",quality_control = false);\n",
        "# Step 3: Build Model Equations\n",
        "model_equation  =\"y1 = intercept + x1 + x2 + genotypes\n",
        "                  y2 = intercept + x1 + x2 + x2*x3 + ID + dam + genotypes\";\n",
        "model = build_model(model_equation);\n",
        "set_covariate(model,\"x1\");\n",
        "set_random(model,\"x2\");\n",
        "set_random(model,\"ID dam\",pedigree);\n",
        "out=runMCMC(model,phenotypes);"
      ]
    },
    {
      "cell_type": "code",
      "execution_count": null,
      "id": "fdd16faf",
      "metadata": {
        "id": "fdd16faf"
      },
      "outputs": [],
      "source": [
        "marker_effects_file=\"results1/MCMC_samples_marker_effects_genotypes_y1.txt\"\n",
        "GWAS(marker_effects_file,header=true)"
      ]
    },
    {
      "cell_type": "markdown",
      "id": "6e7a8811",
      "metadata": {
        "id": "6e7a8811"
      },
      "source": [
        "*  **Inference of genomic window**: window posterior probability of assciation (WPPA) of genomic windows\n",
        "   * *When causal loci are not included in the genotype data (e.g., SNP panel), the signal from a causative locus can be captured jointly by a group of SNPs that are in LD with the causal locus. Thus, a window of SNPs around the causative locus can better capture association signals than an individual SNP.*\n",
        "   \n",
        "WPPA was inferred based on the posterior probability that the proportion of the genetic variance explained by the markers in a genomic window is larger than a pre-defined proportion of total genetic variance. That is, for a genomic window k, its local GEBV across n individuals is computed as \n",
        "$$\\mathbf{a}_k = \\mathbf{M}_k \\boldsymbol{\\alpha}_k$$\n",
        "\n",
        "Then the variance explained by the window is computed as \n",
        "\n",
        "$$ \\sigma^2_{a_k} = var(\\mathbf{a}_k) $$\n",
        "\n",
        "The total genetic variance explained by all markers is computed as \n",
        "\n",
        "$$ \\sigma^2_{a} = var(\\mathbf{M} \\boldsymbol{\\alpha}) $$\n",
        "\n",
        "Hence, the proportion of genetic variance that is explained by markers in window k is defined as\n",
        "\n",
        "$$q_k = \\frac{\\sigma^2_{a_k}}{\\sigma^2_{a}}$$\n",
        "\n",
        "Suppose that we deem genomic windows that explain $0.1\\%$ of the total genetic variance as potential windows containing causal variants, \n",
        "\n",
        "$$\\text{WPPA}_k = \\frac{\\sum_{n_t} \\mathbf{1}_{q_k^{(t)} \\geq 0.001}}{n_t}$$\n",
        "\n",
        "\n",
        "Classical multiple-testing corrections such as Bonferroni in frequentist-based single-SNP GWA methods do not account for dependencies of genotypes at SNPs that are in LD with each other, leading to very stringent significant threshold and low inference power. \n",
        "Instead, using simulation, Fernando et al. (2017) showed that the value of WPPA are able to control the proportion of false positives among the positive results, which is independent of the number of tests or correlations among them. That is, for posterior type I error rate (PER), we have \n",
        "\n",
        "$$ \\begin{align*}PER & = Pr(H_0 \\text{ is true}|\\text{WPPA} > t)\\\\ & < 1-t \\end{align*}$$"
      ]
    },
    {
      "cell_type": "code",
      "execution_count": null,
      "id": "18424925",
      "metadata": {
        "id": "18424925"
      },
      "outputs": [],
      "source": [
        "map_file=dataset(\"map.csv\")\n",
        "first(CSV.read(map_file,DataFrame),6)"
      ]
    },
    {
      "cell_type": "code",
      "execution_count": null,
      "id": "b6d8187a",
      "metadata": {
        "id": "b6d8187a"
      },
      "outputs": [],
      "source": [
        "marker_effects_file=\"results1/MCMC_samples_marker_effects_genotypes_y1.txt\"\n",
        "out=GWAS(model,map_file,marker_effects_file,header=true,window_size = \"1 Mb\", threshold = 0.01)\n",
        "print(out)"
      ]
    },
    {
      "cell_type": "markdown",
      "id": "f067280b",
      "metadata": {
        "id": "f067280b"
      },
      "source": [
        "---"
      ]
    },
    {
      "cell_type": "markdown",
      "id": "dd612ba4",
      "metadata": {
        "id": "dd612ba4"
      },
      "source": [
        "# Using data on both genotyped and ungenotyped animals for GWA "
      ]
    },
    {
      "cell_type": "markdown",
      "id": "faa82a1c",
      "metadata": {
        "id": "faa82a1c"
      },
      "source": [
        "Genotypes of ungenotyped individuals are imputed using pedigree-based regression methods, while imputation errors are modeled directly to account for uncertainty."
      ]
    },
    {
      "cell_type": "code",
      "execution_count": null,
      "id": "5f5eb4fc",
      "metadata": {
        "id": "5f5eb4fc"
      },
      "outputs": [],
      "source": [
        "genotypes  = get_genotypes(genofile,separator=',',method=\"BayesC\");\n",
        "\n",
        "# Step 3: Build Model Equations\n",
        "model_equation  =\"y1 = intercept + x1 + x2 + x2*x3 + ID + dam + genotypes\";\n",
        "model = build_model(model_equation);\n",
        "\n",
        "# Step 4: Set Factors or Covariates\n",
        "set_covariate(model,\"x1\");\n",
        "\n",
        "# Step 5: Set Random or Fixed Effects\n",
        "set_random(model,\"x2\");\n",
        "set_random(model,\"ID dam\",pedigree);\n",
        "\n",
        "# Step 6: Run Analysis\n",
        "out=runMCMC(model,phenotypes,single_step_analysis=true,pedigree=pedigree);"
      ]
    },
    {
      "cell_type": "markdown",
      "id": "327b9590",
      "metadata": {
        "id": "327b9590"
      },
      "source": [
        "---"
      ]
    },
    {
      "cell_type": "markdown",
      "id": "b2f858ed",
      "metadata": {
        "id": "b2f858ed"
      },
      "source": [
        "#### Applied to multiple traits, Bayesian GWA analyses in JWAS are able to study pleiotropic effects by multi-trait Bayesian regression methods, or Bayesian structural equation models."
      ]
    },
    {
      "cell_type": "markdown",
      "id": "e77e8d56",
      "metadata": {
        "id": "e77e8d56"
      },
      "source": [
        "# Bayesian GWA models to detect pleiotropic QTL"
      ]
    },
    {
      "cell_type": "markdown",
      "id": "e4da7fc5",
      "metadata": {
        "id": "e4da7fc5"
      },
      "source": [
        "In addition to analysis of individual traits, there is also an interest in understanding genetic correlations between traits. In JWAS, **correlations of window GEBV** in multi-trait analysis is able to serve as a tool to identify pleiotropic regions. "
      ]
    },
    {
      "cell_type": "code",
      "execution_count": null,
      "id": "72673c57",
      "metadata": {
        "id": "72673c57"
      },
      "outputs": [],
      "source": [
        "genotypes  = get_genotypes(genofile,separator=',',method=\"BayesC\",quality_control = false);\n",
        "# Step 3: Build Model Equations\n",
        "model_equation  =\"y1 = intercept + x1 + x2 + genotypes\n",
        "                  y2 = intercept + x1 + x2 + x2*x3 + ID + dam + genotypes\";\n",
        "model = build_model(model_equation);\n",
        "set_covariate(model,\"x1\");\n",
        "set_random(model,\"x2\");\n",
        "set_random(model,\"ID dam\",pedigree);\n",
        "out=runMCMC(model,phenotypes);"
      ]
    },
    {
      "cell_type": "code",
      "execution_count": null,
      "id": "a433a21f",
      "metadata": {
        "id": "a433a21f"
      },
      "outputs": [],
      "source": [
        "map_file=dataset(\"map.csv\")\n",
        "marker_effects_file1 =\"results3/MCMC_samples_marker_effects_genotypes_y1.txt\"\n",
        "marker_effects_file2 =\"results3/MCMC_samples_marker_effects_genotypes_y2.txt\"\n",
        "out=GWAS(model,map_file,marker_effects_file1,marker_effects_file2,genetic_correlation=true,header=true,window_size=\"1 Mb\")"
      ]
    },
    {
      "cell_type": "code",
      "execution_count": null,
      "id": "48759cb5",
      "metadata": {
        "id": "48759cb5"
      },
      "outputs": [],
      "source": [
        "show(out[1],allcols=true)"
      ]
    },
    {
      "cell_type": "code",
      "execution_count": null,
      "id": "0c38c9d4",
      "metadata": {
        "id": "0c38c9d4"
      },
      "outputs": [],
      "source": [
        "show(out[2],allcols=true)"
      ]
    },
    {
      "cell_type": "code",
      "execution_count": null,
      "id": "1960d184",
      "metadata": {
        "id": "1960d184"
      },
      "outputs": [],
      "source": [
        "show(out[3],allcols=true)"
      ]
    },
    {
      "cell_type": "markdown",
      "id": "d68d198d",
      "metadata": {
        "id": "d68d198d"
      },
      "source": [
        "However, estimates of genetic correlations based on multiple-marker regression models can misrepresent the true genetic parameters if the causal loci are not genotyped. For example, it may be difficult to differentiate the presence of a pleiotropic QTL from the presence of two closely linked single-trait QTL, depending on the extent of LD in the region."
      ]
    },
    {
      "cell_type": "markdown",
      "id": "3f1f7f47",
      "metadata": {
        "id": "3f1f7f47"
      },
      "source": [
        "---"
      ]
    },
    {
      "cell_type": "markdown",
      "id": "1a58eb3b",
      "metadata": {
        "id": "1a58eb3b"
      },
      "source": [
        "# GWA using Bayesian structural equations models"
      ]
    },
    {
      "cell_type": "markdown",
      "id": "ab9b6edc",
      "metadata": {
        "id": "ab9b6edc"
      },
      "source": [
        "Structural equation models (SEM) aim at going beyond correlations to making inferences on causal relationships among traits. The SEM Bayesian variable selection models are implemented in GWAS to introduce causal relationships. It is shown that the SEM BVS models have similar power to detect QTL as multi-trait BVS, but provide greater insight into biological mechanisms of the effects of QTL on traits through direct and indirect effects."
      ]
    },
    {
      "cell_type": "code",
      "execution_count": null,
      "id": "02717e15",
      "metadata": {
        "id": "02717e15"
      },
      "outputs": [],
      "source": [
        "genotypes  = get_genotypes(genofile,separator=',',method=\"BayesC\",quality_control = false);\n",
        "# Step 3: Build Model Equations\n",
        "model_equation  =\"y1 = intercept + x1 + x2 + x2*x3 + ID + dam + genotypes\n",
        "                  y2 = intercept + x1 + x2 + ID + genotypes\n",
        "                  y3 = intercept + x1 + ID + genotypes\";\n",
        "model = build_model(model_equation);\n",
        "\n",
        "# Step 4: Set Factors or Covariates\n",
        "set_covariate(model,\"x1\");\n",
        "\n",
        "# Step 5: Set Random or Fixed Effects\n",
        "set_random(model,\"x2\");\n",
        "set_random(model,\"ID dam\",pedigree);\n",
        "\n",
        "# Step 6: Run Analysis\n",
        "# If `causal_structure` is provided, \n",
        "#e.g., causal_structure = [0.0 0.0 0.0;1.0 0.0 0.0;1.0 0.0 0.0] (column index affects row index, and a lower triangular matrix is required)\n",
        "# for example: trait 1 -> trait 2 and trait 1 -> trait 3, phenotypic causal networks will be incorporated using structure equation models.\n",
        "my_structure = [0.0 0.0 0.0\n",
        "                1.0 0.0 0.0\n",
        "                1.0 0.0 0.0]\n",
        "out=runMCMC(model,phenotypes,causal_structure=my_structure);"
      ]
    },
    {
      "cell_type": "markdown",
      "id": "437685ce",
      "metadata": {
        "id": "437685ce"
      },
      "source": [
        "**GWAS of Direct Marker Effects on Trait y2**"
      ]
    },
    {
      "cell_type": "code",
      "execution_count": null,
      "id": "89d9d1e9",
      "metadata": {
        "id": "89d9d1e9"
      },
      "outputs": [],
      "source": [
        "#Compute the model frequency for each marker.\n",
        "marker_effects_file=\"results4/MCMC_samples_marker_effects_genotypes_y2.txt\"\n",
        "GWAS(marker_effects_file,header=true)"
      ]
    },
    {
      "cell_type": "code",
      "execution_count": null,
      "id": "4ba89963",
      "metadata": {
        "id": "4ba89963"
      },
      "outputs": [],
      "source": [
        "#Compute the posterior probability of association of the genomic window that explains a large proportion of the total genetic variance\n",
        "map_file=dataset(\"map.csv\")\n",
        "marker_effects_file=\"results4/MCMC_samples_marker_effects_genotypes_y2.txt\"\n",
        "out=GWAS(model,map_file,marker_effects_file,header=true,window_size=\"1 Mb\")\n",
        "print(out)"
      ]
    },
    {
      "cell_type": "markdown",
      "id": "2ff724d0",
      "metadata": {
        "id": "2ff724d0"
      },
      "source": [
        "**GWAS of Indirect Marker Effects on Trait y2**"
      ]
    },
    {
      "cell_type": "code",
      "execution_count": null,
      "id": "02238d8a",
      "metadata": {
        "scrolled": false,
        "id": "02238d8a"
      },
      "outputs": [],
      "source": [
        "#Compute the model frequency for each marker.\n",
        "marker_effects_file=\"results4/MCMC_samples_indirect_marker_effects_genotypes_y2.txt\"\n",
        "GWAS(marker_effects_file,header=true)"
      ]
    },
    {
      "cell_type": "code",
      "execution_count": null,
      "id": "4e3f3ba9",
      "metadata": {
        "scrolled": true,
        "id": "4e3f3ba9"
      },
      "outputs": [],
      "source": [
        "#Compute the posterior probability of association of the genomic window that explains a large proportion of the total genetic variance\n",
        "map_file=dataset(\"map.csv\")\n",
        "marker_effects_file=\"results4/MCMC_samples_indirect_marker_effects_genotypes_y2.txt\"\n",
        "out=GWAS(model,map_file,marker_effects_file,header=true,window_size=\"1 Mb\")\n",
        "print(out)"
      ]
    },
    {
      "cell_type": "markdown",
      "id": "42210b3c",
      "metadata": {
        "id": "42210b3c"
      },
      "source": [
        "# Reference \n",
        "\n",
        "Fernando, R., Toosi, A., Wolc, A. et al. Application of Whole-Genome Prediction Methods for Genome-Wide Association Studies: A Bayesian Approach. JABES 22, 172–193 (2017). https://doi.org/10.1007/s13253-017-0277-6\n",
        "\n",
        "Wolc, A., Dekkers, J.C.M. Application of Bayesian genomic prediction methods to genome-wide association analyses. Genet Sel Evol 54, 31 (2022). https://doi.org/10.1186/s12711-022-00724-8\n",
        "\n"
      ]
    },
    {
      "cell_type": "code",
      "execution_count": null,
      "id": "c790fc17",
      "metadata": {
        "id": "c790fc17"
      },
      "outputs": [],
      "source": [
        ""
      ]
    }
  ],
  "metadata": {
    "kernelspec": {
      "display_name": "Julia 1.7.2",
      "language": "julia",
      "name": "julia-1.7"
    },
    "language_info": {
      "file_extension": ".jl",
      "mimetype": "application/julia",
      "name": "julia",
      "version": "1.7.2"
    },
    "colab": {
      "name": "Genome-wide association studies using JWAS.ipynb",
      "provenance": [],
      "toc_visible": true,
      "include_colab_link": true
    }
  },
  "nbformat": 4,
  "nbformat_minor": 5
}