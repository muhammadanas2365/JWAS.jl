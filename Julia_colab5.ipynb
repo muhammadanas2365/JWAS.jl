{
  "cells": [
    {
      "cell_type": "code",
      "execution_count": null,
      "metadata": {
        "colab": {
          "base_uri": "https://localhost:8080/"
        },
        "id": "GIeFXS0F0zww",
        "outputId": "bba09b90-78e0-4fcb-c345-022813ff0453"
      },
      "outputs": [
        {
          "output_type": "stream",
          "name": "stdout",
          "text": [
            "Installing Julia 1.7.1 on the current Colab Runtime...\n",
            "2022-08-01 04:12:08 URL:https://storage.googleapis.com/julialang2/bin/linux/x64/1.7/julia-1.7.1-linux-x86_64.tar.gz [123374573/123374573] -> \"/tmp/julia.tar.gz\" [1]\n",
            "Installing Julia package IJulia...\n",
            "Installing Julia package CSV...\n",
            "Installing Julia package DataFrames...\n",
            "Installing Julia package Random...\n",
            "Installing Julia package Statistics...\n",
            "Installing Julia package JWAS...\n",
            "Installing IJulia kernel...\n",
            "\u001b[36m\u001b[1m[ \u001b[22m\u001b[39m\u001b[36m\u001b[1mInfo: \u001b[22m\u001b[39mInstalling julia kernelspec in /root/.local/share/jupyter/kernels/julia-1.7\n",
            "\n",
            "Successfully installed julia version 1.7.1!\n",
            "Please reload this page (press Ctrl+R, ⌘+R, or the F5 key) then\n",
            "jump to the 'Checking the Installation' section.\n"
          ]
        },
        {
          "output_type": "execute_result",
          "data": {
            "text/plain": [
              ""
            ]
          },
          "metadata": {},
          "execution_count": 1
        }
      ],
      "source": [
        "%%shell\n",
        "set -e\n",
        "\n",
        "#---------------------------------------------------#\n",
        "JULIA_VERSION=\"1.7.1\" # any version ≥ 0.7.0\n",
        "JULIA_PACKAGES=\"IJulia CSV DataFrames Random Statistics Distributions LinearAlgebra SparseArrays Printf JWAS\"  # CSV DataFrames Random Statistics JWAS Distributions LinearAlgebra\n",
        "JULIA_PACKAGES_IF_GPU=\"\"\n",
        "JULIA_NUM_THREADS=4\n",
        "#---------------------------------------------------#\n",
        "\n",
        "if [ -n \"$COLAB_GPU\" ] && [ -z `which julia` ]; then\n",
        "  # Install Julia\n",
        "  JULIA_VER=`cut -d '.' -f -2 <<< \"$JULIA_VERSION\"`\n",
        "  echo \"Installing Julia $JULIA_VERSION on the current Colab Runtime...\"\n",
        "  BASE_URL=\"https://julialang-s3.julialang.org/bin/linux/x64\"\n",
        "  URL=\"$BASE_URL/$JULIA_VER/julia-$JULIA_VERSION-linux-x86_64.tar.gz\"\n",
        "  wget -nv $URL -O /tmp/julia.tar.gz # -nv means \"not verbose\"\n",
        "  tar -x -f /tmp/julia.tar.gz -C /usr/local --strip-components 1\n",
        "  rm /tmp/julia.tar.gz\n",
        "\n",
        "  # Install Packages\n",
        "  if [ \"$COLAB_GPU\" = \"1\" ]; then\n",
        "      JULIA_PACKAGES=\"$JULIA_PACKAGES $JULIA_PACKAGES_IF_GPU\"\n",
        "  fi\n",
        "  for PKG in `echo $JULIA_PACKAGES`; do\n",
        "    echo \"Installing Julia package $PKG...\"\n",
        "    julia -e 'using Pkg; pkg\"add '$PKG'; precompile;\"' &> /dev/null\n",
        "  done\n",
        "\n",
        "  # Install kernel and rename it to \"julia\"\n",
        "  echo \"Installing IJulia kernel...\"\n",
        "  julia -e 'using IJulia; IJulia.installkernel(\"julia\", env=Dict(\n",
        "      \"JULIA_NUM_THREADS\"=>\"'\"$JULIA_NUM_THREADS\"'\"))'\n",
        "  KERNEL_DIR=`julia -e \"using IJulia; print(IJulia.kerneldir())\"`\n",
        "  KERNEL_NAME=`ls -d \"$KERNEL_DIR\"/julia*`\n",
        "  mv -f $KERNEL_NAME \"$KERNEL_DIR\"/julia  \n",
        "\n",
        "  echo ''\n",
        "  echo \"Successfully installed `julia -v`!\"\n",
        "  echo \"Please reload this page (press Ctrl+R, ⌘+R, or the F5 key) then\"\n",
        "  echo \"jump to the 'Checking the Installation' section.\"\n",
        "fi"
      ]
    },
    {
      "cell_type": "code",
      "execution_count": 1,
      "metadata": {
        "colab": {
          "base_uri": "https://localhost:8080/"
        },
        "id": "EEzvvzCl1i0F",
        "outputId": "328d8c58-91e8-4e40-81c3-0dcb268731fd"
      },
      "outputs": [
        {
          "output_type": "stream",
          "name": "stdout",
          "text": [
            "Julia Version 1.7.1\n",
            "Commit ac5cc99908 (2021-12-22 19:35 UTC)\n",
            "Platform Info:\n",
            "  OS: Linux (x86_64-pc-linux-gnu)\n",
            "  CPU: Intel(R) Xeon(R) CPU @ 2.20GHz\n",
            "  WORD_SIZE: 64\n",
            "  LIBM: libopenlibm\n",
            "  LLVM: libLLVM-12.0.1 (ORCJIT, broadwell)\n",
            "Environment:\n",
            "  JULIA_NUM_THREADS = 4\n"
          ]
        }
      ],
      "source": [
        "versioninfo()"
      ]
    },
    {
      "cell_type": "markdown",
      "source": [
        "Run basic julia from https://ebook.qtl.rocks/julia/julialanguage"
      ],
      "metadata": {
        "id": "jDUJF1C1bEAy"
      }
    },
    {
      "cell_type": "code",
      "source": [
        "a = 2.5\n",
        "5a\n",
        "# this is a one line comment\n",
        "9a # comment can be at the end of a line too"
      ],
      "metadata": {
        "colab": {
          "base_uri": "https://localhost:8080/"
        },
        "id": "DRkRgEDZbEwk",
        "outputId": "97558c46-f9e2-40ab-9ccb-390666452db6"
      },
      "execution_count": null,
      "outputs": [
        {
          "output_type": "execute_result",
          "data": {
            "text/plain": [
              "22.5"
            ]
          },
          "metadata": {},
          "execution_count": 4
        }
      ]
    },
    {
      "cell_type": "markdown",
      "source": [
        "#= This is the first line of a comment block\n",
        "9a # comment can be at the end of a line too\n",
        "This is the last line of the block =# \n"
      ],
      "metadata": {
        "id": "jDYGfMl1bWAw"
      }
    },
    {
      "cell_type": "code",
      "source": [
        "a,b = 1,2\n",
        "[a,b]"
      ],
      "metadata": {
        "colab": {
          "base_uri": "https://localhost:8080/"
        },
        "id": "Pj9NaYw6bX0y",
        "outputId": "e4dde26b-6a0d-4b04-f4d9-ae053bdb7ff8"
      },
      "execution_count": null,
      "outputs": [
        {
          "output_type": "execute_result",
          "data": {
            "text/plain": [
              "2-element Vector{Int64}:\n",
              " 1\n",
              " 2"
            ]
          },
          "metadata": {},
          "execution_count": 5
        }
      ]
    },
    {
      "cell_type": "code",
      "source": [
        "# easy swapping of values\n",
        "a,b = b,a\n",
        "[a,b]"
      ],
      "metadata": {
        "colab": {
          "base_uri": "https://localhost:8080/"
        },
        "id": "xmEUWJdnbedS",
        "outputId": "48033ad9-2b66-4a2e-c843-7f2ceb4a851a"
      },
      "execution_count": null,
      "outputs": [
        {
          "output_type": "execute_result",
          "data": {
            "text/plain": [
              "2-element Vector{Int64}:\n",
              " 2\n",
              " 1"
            ]
          },
          "metadata": {},
          "execution_count": 6
        }
      ]
    },
    {
      "cell_type": "markdown",
      "source": [
        "1.1.3. Julia allows simple boolean expressions"
      ],
      "metadata": {
        "id": "jwVhoAjbblsO"
      }
    },
    {
      "cell_type": "code",
      "source": [
        "# Example\n",
        "1 < a < 3\n",
        "# In many languages this has to be written as\n",
        "1 < a && a < 3"
      ],
      "metadata": {
        "colab": {
          "base_uri": "https://localhost:8080/"
        },
        "id": "0IQ8ivgAbmfu",
        "outputId": "1239c901-0543-4b7f-cb2a-7a7ef27f7374"
      },
      "execution_count": null,
      "outputs": [
        {
          "output_type": "execute_result",
          "data": {
            "text/plain": [
              "true"
            ]
          },
          "metadata": {},
          "execution_count": 7
        }
      ]
    },
    {
      "cell_type": "code",
      "source": [
        "a = 1\n",
        "b = 1\n",
        "c = 2\n",
        "\n",
        "res = a==b ? a : b    # if a=b, rest is equal to a and else is b"
      ],
      "metadata": {
        "colab": {
          "base_uri": "https://localhost:8080/"
        },
        "id": "mTo_N67eb2KO",
        "outputId": "adb7c2ec-d1ab-409e-b448-5100eb9a8495"
      },
      "execution_count": null,
      "outputs": [
        {
          "output_type": "execute_result",
          "data": {
            "text/plain": [
              "1"
            ]
          },
          "metadata": {},
          "execution_count": 8
        }
      ]
    },
    {
      "cell_type": "code",
      "source": [
        "a==c ? a : c"
      ],
      "metadata": {
        "colab": {
          "base_uri": "https://localhost:8080/"
        },
        "id": "4Qd-qwPacE1j",
        "outputId": "5e40887f-2aa2-4302-830d-592198f1f765"
      },
      "execution_count": null,
      "outputs": [
        {
          "output_type": "execute_result",
          "data": {
            "text/plain": [
              "2"
            ]
          },
          "metadata": {},
          "execution_count": 9
        }
      ]
    },
    {
      "cell_type": "markdown",
      "source": [
        "1.1.5. Remainder"
      ],
      "metadata": {
        "id": "yf47FUaRcKH9"
      }
    },
    {
      "cell_type": "code",
      "source": [
        "99 % 10\n"
      ],
      "metadata": {
        "colab": {
          "base_uri": "https://localhost:8080/"
        },
        "id": "Dcntg76XcPuh",
        "outputId": "fc44a9f5-7337-4b1b-b237-1b3cd5666c9f"
      },
      "execution_count": null,
      "outputs": [
        {
          "output_type": "execute_result",
          "data": {
            "text/plain": [
              "9"
            ]
          },
          "metadata": {},
          "execution_count": 10
        }
      ]
    },
    {
      "cell_type": "markdown",
      "source": [
        "Arrays (Vectors and Matricies)"
      ],
      "metadata": {
        "id": "0KfKmj2EcTTT"
      }
    },
    {
      "cell_type": "code",
      "source": [
        "# empty vector of double precision floats\n",
        "v = Array{Float64,1}()   #dimension 1, float64 is to be precision memory state or 64 bits"
      ],
      "metadata": {
        "colab": {
          "base_uri": "https://localhost:8080/"
        },
        "id": "2B0M8W7_cWE-",
        "outputId": "3c82ebcb-46ea-4c06-9d63-5dd9dc408657"
      },
      "execution_count": null,
      "outputs": [
        {
          "output_type": "execute_result",
          "data": {
            "text/plain": [
              "Float64[]"
            ]
          },
          "metadata": {},
          "execution_count": 11
        }
      ]
    },
    {
      "cell_type": "code",
      "source": [
        "push!(v,2.0)   # push a number to v or assigning a value to v\n",
        "v"
      ],
      "metadata": {
        "colab": {
          "base_uri": "https://localhost:8080/"
        },
        "id": "PMq2FOiAc4fW",
        "outputId": "24bdddf7-927f-4d3f-a9f8-8b6d890b8b31"
      },
      "execution_count": null,
      "outputs": [
        {
          "output_type": "execute_result",
          "data": {
            "text/plain": [
              "1-element Vector{Float64}:\n",
              " 2.0"
            ]
          },
          "metadata": {},
          "execution_count": 12
        }
      ]
    },
    {
      "cell_type": "code",
      "source": [
        "push!(v,3.6)   # push a number to v or assigning a value to v\n",
        "v  # now 2 elements"
      ],
      "metadata": {
        "colab": {
          "base_uri": "https://localhost:8080/"
        },
        "id": "i7j49h23dD5M",
        "outputId": "94708266-6bb8-4fdf-9bbe-40669d0792d0"
      },
      "execution_count": null,
      "outputs": [
        {
          "output_type": "execute_result",
          "data": {
            "text/plain": [
              "2-element Vector{Float64}:\n",
              " 2.0\n",
              " 3.6"
            ]
          },
          "metadata": {},
          "execution_count": 13
        }
      ]
    },
    {
      "cell_type": "code",
      "source": [
        "# vector of size 5, double precision floats 64 bits (32+32 bits)\n",
        "u =  Array{Float64,1}(undef, 5)   #random, undefined values"
      ],
      "metadata": {
        "colab": {
          "base_uri": "https://localhost:8080/"
        },
        "id": "Lq3ENacMdOR-",
        "outputId": "820f6985-7bef-4e42-9807-fe39c7690bf0"
      },
      "execution_count": null,
      "outputs": [
        {
          "output_type": "execute_result",
          "data": {
            "text/plain": [
              "5-element Vector{Float64}:\n",
              " 6.9172117686379e-310\n",
              " 6.9172117686395e-310\n",
              " 6.91721176864423e-310\n",
              " 6.917184192303e-310\n",
              " 6.91721185249943e-310"
            ]
          },
          "metadata": {},
          "execution_count": 14
        }
      ]
    },
    {
      "cell_type": "code",
      "source": [
        "# matrix of size 3x5, double precision floats\n",
        "U =  Array{Float64,2}(undef, 3,5)   #random, undefined values"
      ],
      "metadata": {
        "colab": {
          "base_uri": "https://localhost:8080/"
        },
        "id": "xrJuuQSOdbAH",
        "outputId": "b4c43cde-0d34-4979-f01f-05e1dab7cf01"
      },
      "execution_count": null,
      "outputs": [
        {
          "output_type": "execute_result",
          "data": {
            "text/plain": [
              "3×5 Matrix{Float64}:\n",
              " 0.0           0.0  0.0           0.0           6.91721e-310\n",
              " 0.0           0.0  6.91721e-310  6.91721e-310  0.0\n",
              " 6.91721e-310  0.0  6.91719e-310  0.0           6.91718e-310"
            ]
          },
          "metadata": {},
          "execution_count": 15
        }
      ]
    },
    {
      "cell_type": "code",
      "source": [
        "# vector of size 5, of 2.2\n",
        "u =  fill(2.2,5)    #fill is to repeat"
      ],
      "metadata": {
        "colab": {
          "base_uri": "https://localhost:8080/"
        },
        "id": "Q8U9N67ReTD3",
        "outputId": "21453b8f-1450-4989-b9ae-b6fa2bc1c3fa"
      },
      "execution_count": null,
      "outputs": [
        {
          "output_type": "execute_result",
          "data": {
            "text/plain": [
              "5-element Vector{Float64}:\n",
              " 2.2\n",
              " 2.2\n",
              " 2.2\n",
              " 2.2\n",
              " 2.2"
            ]
          },
          "metadata": {},
          "execution_count": 16
        }
      ]
    },
    {
      "cell_type": "code",
      "source": [
        "zeros(5)   # repeat zero 5 times\n",
        "zeros(3,5)  #matrix 3*2\n",
        "zero(U)  #zero to U matrix"
      ],
      "metadata": {
        "colab": {
          "base_uri": "https://localhost:8080/"
        },
        "id": "DIJrZTfieX60",
        "outputId": "d05a8c38-5bfb-4a81-aebb-af7aaddd5491"
      },
      "execution_count": null,
      "outputs": [
        {
          "output_type": "execute_result",
          "data": {
            "text/plain": [
              "3×5 Matrix{Float64}:\n",
              " 0.0  0.0  0.0  0.0  0.0\n",
              " 0.0  0.0  0.0  0.0  0.0\n",
              " 0.0  0.0  0.0  0.0  0.0"
            ]
          },
          "metadata": {},
          "execution_count": 18
        }
      ]
    },
    {
      "cell_type": "code",
      "source": [
        "using Random, Statistics, Distributions, LinearAlgebra, DataFrames, StatsPlots"
      ],
      "metadata": {
        "id": "3DFwC41he29J"
      },
      "execution_count": null,
      "outputs": []
    },
    {
      "cell_type": "code",
      "source": [
        "using Pkg"
      ],
      "metadata": {
        "id": "UXpcVlrNe_8b"
      },
      "execution_count": null,
      "outputs": []
    },
    {
      "cell_type": "code",
      "source": [
        "Pkg.add(\"StatsPlots\")  #was missing"
      ],
      "metadata": {
        "colab": {
          "base_uri": "https://localhost:8080/"
        },
        "id": "NitDusWIfFVJ",
        "outputId": "6ac78aa4-3c59-4dd1-d5a1-7bc72410a7e7"
      },
      "execution_count": null,
      "outputs": [
        {
          "output_type": "stream",
          "name": "stderr",
          "text": [
            "\u001b[32m\u001b[1m    Updating\u001b[22m\u001b[39m registry at `~/.julia/registries/General.toml`\n",
            "\u001b[32m\u001b[1m   Resolving\u001b[22m\u001b[39m package versions...\n",
            "\u001b[32m\u001b[1m   Installed\u001b[22m\u001b[39m JpegTurbo_jll ──────────────── v2.1.2+0\n",
            "\u001b[32m\u001b[1m   Installed\u001b[22m\u001b[39m x265_jll ───────────────────── v3.5.0+0\n",
            "\u001b[32m\u001b[1m   Installed\u001b[22m\u001b[39m libfdk_aac_jll ─────────────── v2.0.2+0\n",
            "\u001b[32m\u001b[1m   Installed\u001b[22m\u001b[39m GR_jll ─────────────────────── v0.66.0+0\n",
            "\u001b[32m\u001b[1m   Installed\u001b[22m\u001b[39m Libmount_jll ───────────────── v2.35.0+0\n",
            "\u001b[32m\u001b[1m   Installed\u001b[22m\u001b[39m LERC_jll ───────────────────── v3.0.0+1\n",
            "\u001b[32m\u001b[1m   Installed\u001b[22m\u001b[39m OffsetArrays ───────────────── v1.12.7\n",
            "\u001b[32m\u001b[1m   Installed\u001b[22m\u001b[39m FFTW ───────────────────────── v1.5.0\n",
            "\u001b[32m\u001b[1m   Installed\u001b[22m\u001b[39m Opus_jll ───────────────────── v1.3.2+0\n",
            "\u001b[32m\u001b[1m   Installed\u001b[22m\u001b[39m LoggingExtras ──────────────── v0.4.9\n",
            "\u001b[32m\u001b[1m   Installed\u001b[22m\u001b[39m Measures ───────────────────── v0.3.1\n",
            "\u001b[32m\u001b[1m   Installed\u001b[22m\u001b[39m Xorg_xkbcomp_jll ───────────── v1.4.2+4\n",
            "\u001b[32m\u001b[1m   Installed\u001b[22m\u001b[39m RelocatableFolders ─────────── v0.3.0\n",
            "\u001b[32m\u001b[1m   Installed\u001b[22m\u001b[39m EarCut_jll ─────────────────── v2.2.3+0\n",
            "\u001b[32m\u001b[1m   Installed\u001b[22m\u001b[39m NearestNeighbors ───────────── v0.4.11\n",
            "\u001b[32m\u001b[1m   Installed\u001b[22m\u001b[39m Grisu ──────────────────────── v1.0.2\n",
            "\u001b[32m\u001b[1m   Installed\u001b[22m\u001b[39m Xorg_xcb_util_wm_jll ───────── v0.4.1+1\n",
            "\u001b[32m\u001b[1m   Installed\u001b[22m\u001b[39m Xorg_xcb_util_image_jll ────── v0.4.0+1\n",
            "\u001b[32m\u001b[1m   Installed\u001b[22m\u001b[39m Contour ────────────────────── v0.6.2\n",
            "\u001b[32m\u001b[1m   Installed\u001b[22m\u001b[39m PlotUtils ──────────────────── v1.3.0\n",
            "\u001b[32m\u001b[1m   Installed\u001b[22m\u001b[39m RecipesPipeline ────────────── v0.6.3\n",
            "\u001b[32m\u001b[1m   Installed\u001b[22m\u001b[39m Xorg_xcb_util_jll ──────────── v0.4.0+1\n",
            "\u001b[32m\u001b[1m   Installed\u001b[22m\u001b[39m Cairo_jll ──────────────────── v1.16.1+1\n",
            "\u001b[32m\u001b[1m   Installed\u001b[22m\u001b[39m Xorg_libpthread_stubs_jll ──── v0.1.0+3\n",
            "\u001b[32m\u001b[1m   Installed\u001b[22m\u001b[39m Libgpg_error_jll ───────────── v1.42.0+0\n",
            "\u001b[32m\u001b[1m   Installed\u001b[22m\u001b[39m IntelOpenMP_jll ────────────── v2018.0.3+2\n",
            "\u001b[32m\u001b[1m   Installed\u001b[22m\u001b[39m Fontconfig_jll ─────────────── v2.13.93+0\n",
            "\u001b[32m\u001b[1m   Installed\u001b[22m\u001b[39m HTTP ───────────────────────── v1.2.0\n",
            "\u001b[32m\u001b[1m   Installed\u001b[22m\u001b[39m Xorg_libXinerama_jll ───────── v1.1.4+4\n",
            "\u001b[32m\u001b[1m   Installed\u001b[22m\u001b[39m Xorg_libxkbfile_jll ────────── v1.1.0+4\n",
            "\u001b[32m\u001b[1m   Installed\u001b[22m\u001b[39m ColorSchemes ───────────────── v3.19.0\n",
            "\u001b[32m\u001b[1m   Installed\u001b[22m\u001b[39m Xorg_libXau_jll ────────────── v1.0.9+4\n",
            "\u001b[32m\u001b[1m   Installed\u001b[22m\u001b[39m FFMPEG ─────────────────────── v0.4.1\n",
            "\u001b[32m\u001b[1m   Installed\u001b[22m\u001b[39m Distances ──────────────────── v0.10.7\n",
            "\u001b[32m\u001b[1m   Installed\u001b[22m\u001b[39m Showoff ────────────────────── v1.0.3\n",
            "\u001b[32m\u001b[1m   Installed\u001b[22m\u001b[39m Qt5Base_jll ────────────────── v5.15.3+1\n",
            "\u001b[32m\u001b[1m   Installed\u001b[22m\u001b[39m xkbcommon_jll ──────────────── v0.9.1+5\n",
            "\u001b[32m\u001b[1m   Installed\u001b[22m\u001b[39m Bzip2_jll ──────────────────── v1.0.8+0\n",
            "\u001b[32m\u001b[1m   Installed\u001b[22m\u001b[39m Xorg_xcb_util_keysyms_jll ──── v0.4.0+1\n",
            "\u001b[32m\u001b[1m   Installed\u001b[22m\u001b[39m HarfBuzz_jll ───────────────── v2.8.1+1\n",
            "\u001b[32m\u001b[1m   Installed\u001b[22m\u001b[39m SimpleBufferStream ─────────── v1.1.0\n",
            "\u001b[32m\u001b[1m   Installed\u001b[22m\u001b[39m PlotThemes ─────────────────── v3.0.0\n",
            "\u001b[32m\u001b[1m   Installed\u001b[22m\u001b[39m GR ─────────────────────────── v0.66.0\n",
            "\u001b[32m\u001b[1m   Installed\u001b[22m\u001b[39m x264_jll ───────────────────── v2021.5.5+0\n",
            "\u001b[32m\u001b[1m   Installed\u001b[22m\u001b[39m FriBidi_jll ────────────────── v1.0.10+0\n",
            "\u001b[32m\u001b[1m   Installed\u001b[22m\u001b[39m LZO_jll ────────────────────── v2.10.1+0\n",
            "\u001b[32m\u001b[1m   Installed\u001b[22m\u001b[39m GLFW_jll ───────────────────── v3.3.6+0\n",
            "\u001b[32m\u001b[1m   Installed\u001b[22m\u001b[39m UnicodeFun ─────────────────── v0.4.1\n",
            "\u001b[32m\u001b[1m   Installed\u001b[22m\u001b[39m Ratios ─────────────────────── v0.4.3\n",
            "\u001b[32m\u001b[1m   Installed\u001b[22m\u001b[39m Clustering ─────────────────── v0.14.2\n",
            "\u001b[32m\u001b[1m   Installed\u001b[22m\u001b[39m Colors ─────────────────────── v0.12.8\n",
            "\u001b[32m\u001b[1m   Installed\u001b[22m\u001b[39m libpng_jll ─────────────────── v1.6.38+0\n",
            "\u001b[32m\u001b[1m   Installed\u001b[22m\u001b[39m Xorg_libxcb_jll ────────────── v1.13.0+3\n",
            "\u001b[32m\u001b[1m   Installed\u001b[22m\u001b[39m FreeType2_jll ──────────────── v2.10.4+0\n",
            "\u001b[32m\u001b[1m   Installed\u001b[22m\u001b[39m libaom_jll ─────────────────── v3.4.0+0\n",
            "\u001b[32m\u001b[1m   Installed\u001b[22m\u001b[39m Scratch ────────────────────── v1.1.1\n",
            "\u001b[32m\u001b[1m   Installed\u001b[22m\u001b[39m DataValues ─────────────────── v0.4.13\n",
            "\u001b[32m\u001b[1m   Installed\u001b[22m\u001b[39m StatsPlots ─────────────────── v0.15.1\n",
            "\u001b[32m\u001b[1m   Installed\u001b[22m\u001b[39m ColorTypes ─────────────────── v0.11.4\n",
            "\u001b[32m\u001b[1m   Installed\u001b[22m\u001b[39m Xorg_libXext_jll ───────────── v1.3.4+4\n",
            "\u001b[32m\u001b[1m   Installed\u001b[22m\u001b[39m Zstd_jll ───────────────────── v1.5.2+0\n",
            "\u001b[32m\u001b[1m   Installed\u001b[22m\u001b[39m Libtiff_jll ────────────────── v4.4.0+0\n",
            "\u001b[32m\u001b[1m   Installed\u001b[22m\u001b[39m MKL_jll ────────────────────── v2022.0.0+0\n",
            "\u001b[32m\u001b[1m   Installed\u001b[22m\u001b[39m Expat_jll ──────────────────── v2.4.8+0\n",
            "\u001b[32m\u001b[1m   Installed\u001b[22m\u001b[39m TensorCore ─────────────────── v0.1.1\n",
            "\u001b[32m\u001b[1m   Installed\u001b[22m\u001b[39m AbstractFFTs ───────────────── v1.2.1\n",
            "\u001b[32m\u001b[1m   Installed\u001b[22m\u001b[39m Plots ──────────────────────── v1.31.5\n",
            "\u001b[32m\u001b[1m   Installed\u001b[22m\u001b[39m PCRE_jll ───────────────────── v8.44.0+0\n",
            "\u001b[32m\u001b[1m   Installed\u001b[22m\u001b[39m Ogg_jll ────────────────────── v1.3.5+1\n",
            "\u001b[32m\u001b[1m   Installed\u001b[22m\u001b[39m Xorg_libXrender_jll ────────── v0.9.10+4\n",
            "\u001b[32m\u001b[1m   Installed\u001b[22m\u001b[39m Libffi_jll ─────────────────── v3.2.2+1\n",
            "\u001b[32m\u001b[1m   Installed\u001b[22m\u001b[39m ColorVectorSpace ───────────── v0.9.9\n",
            "\u001b[32m\u001b[1m   Installed\u001b[22m\u001b[39m KernelDensity ──────────────── v0.6.5\n",
            "\u001b[32m\u001b[1m   Installed\u001b[22m\u001b[39m FFTW_jll ───────────────────── v3.3.10+0\n",
            "\u001b[32m\u001b[1m   Installed\u001b[22m\u001b[39m XSLT_jll ───────────────────── v1.1.34+0\n",
            "\u001b[32m\u001b[1m   Installed\u001b[22m\u001b[39m Xorg_libXi_jll ─────────────── v1.7.10+4\n",
            "\u001b[32m\u001b[1m   Installed\u001b[22m\u001b[39m Libuuid_jll ────────────────── v2.36.0+0\n",
            "\u001b[32m\u001b[1m   Installed\u001b[22m\u001b[39m Xorg_libXcursor_jll ────────── v1.2.0+4\n",
            "\u001b[32m\u001b[1m   Installed\u001b[22m\u001b[39m Widgets ────────────────────── v0.6.6\n",
            "\u001b[32m\u001b[1m   Installed\u001b[22m\u001b[39m libass_jll ─────────────────── v0.15.1+0\n",
            "\u001b[32m\u001b[1m   Installed\u001b[22m\u001b[39m Xorg_xcb_util_renderutil_jll ─ v0.3.9+1\n",
            "\u001b[32m\u001b[1m   Installed\u001b[22m\u001b[39m Graphite2_jll ──────────────── v1.3.14+0\n",
            "\u001b[32m\u001b[1m   Installed\u001b[22m\u001b[39m Pixman_jll ─────────────────── v0.40.1+0\n",
            "\u001b[32m\u001b[1m   Installed\u001b[22m\u001b[39m Wayland_protocols_jll ──────── v1.25.0+0\n",
            "\u001b[32m\u001b[1m   Installed\u001b[22m\u001b[39m Adapt ──────────────────────── v3.4.0\n",
            "\u001b[32m\u001b[1m   Installed\u001b[22m\u001b[39m MultivariateStats ──────────── v0.9.0\n",
            "\u001b[32m\u001b[1m   Installed\u001b[22m\u001b[39m Gettext_jll ────────────────── v0.21.0+0\n",
            "\u001b[32m\u001b[1m   Installed\u001b[22m\u001b[39m Xorg_xtrans_jll ────────────── v1.4.0+3\n",
            "\u001b[32m\u001b[1m   Installed\u001b[22m\u001b[39m Wayland_jll ────────────────── v1.19.0+0\n",
            "\u001b[32m\u001b[1m   Installed\u001b[22m\u001b[39m Arpack_jll ─────────────────── v3.5.1+1\n",
            "\u001b[32m\u001b[1m   Installed\u001b[22m\u001b[39m XML2_jll ───────────────────── v2.9.14+0\n",
            "\u001b[32m\u001b[1m   Installed\u001b[22m\u001b[39m IterTools ──────────────────── v1.4.0\n",
            "\u001b[32m\u001b[1m   Installed\u001b[22m\u001b[39m Latexify ───────────────────── v0.15.16\n",
            "\u001b[32m\u001b[1m   Installed\u001b[22m\u001b[39m Xorg_libXrandr_jll ─────────── v1.5.2+4\n",
            "\u001b[32m\u001b[1m   Installed\u001b[22m\u001b[39m FFMPEG_jll ─────────────────── v4.4.2+0\n",
            "\u001b[32m\u001b[1m   Installed\u001b[22m\u001b[39m Xorg_xkeyboard_config_jll ──── v2.27.0+4\n",
            "\u001b[32m\u001b[1m   Installed\u001b[22m\u001b[39m Libgcrypt_jll ──────────────── v1.8.7+0\n",
            "\u001b[32m\u001b[1m   Installed\u001b[22m\u001b[39m OpenSSL_jll ────────────────── v1.1.17+0\n",
            "\u001b[32m\u001b[1m   Installed\u001b[22m\u001b[39m FixedPointNumbers ──────────── v0.8.4\n",
            "\u001b[32m\u001b[1m   Installed\u001b[22m\u001b[39m GeometryBasics ─────────────── v0.4.2\n",
            "\u001b[32m\u001b[1m   Installed\u001b[22m\u001b[39m Interpolations ─────────────── v0.14.2\n",
            "\u001b[32m\u001b[1m   Installed\u001b[22m\u001b[39m Xorg_libXfixes_jll ─────────── v5.0.3+4\n",
            "\u001b[32m\u001b[1m   Installed\u001b[22m\u001b[39m TableOperations ────────────── v1.2.0\n",
            "\u001b[32m\u001b[1m   Installed\u001b[22m\u001b[39m LAME_jll ───────────────────── v3.100.1+0\n",
            "\u001b[32m\u001b[1m   Installed\u001b[22m\u001b[39m Libiconv_jll ───────────────── v1.16.1+1\n",
            "\u001b[32m\u001b[1m   Installed\u001b[22m\u001b[39m RecipesBase ────────────────── v1.2.1\n",
            "\u001b[32m\u001b[1m   Installed\u001b[22m\u001b[39m IniFile ────────────────────── v0.5.1\n",
            "\u001b[32m\u001b[1m   Installed\u001b[22m\u001b[39m StructArrays ───────────────── v0.6.11\n",
            "\u001b[32m\u001b[1m   Installed\u001b[22m\u001b[39m URIs ───────────────────────── v1.4.0\n",
            "\u001b[32m\u001b[1m   Installed\u001b[22m\u001b[39m Glib_jll ───────────────────── v2.68.3+2\n",
            "\u001b[32m\u001b[1m   Installed\u001b[22m\u001b[39m libvorbis_jll ──────────────── v1.3.7+1\n",
            "\u001b[32m\u001b[1m   Installed\u001b[22m\u001b[39m Xorg_libX11_jll ────────────── v1.6.9+4\n",
            "\u001b[32m\u001b[1m   Installed\u001b[22m\u001b[39m Libglvnd_jll ───────────────── v1.3.0+3\n",
            "\u001b[32m\u001b[1m   Installed\u001b[22m\u001b[39m AxisAlgorithms ─────────────── v1.0.1\n",
            "\u001b[32m\u001b[1m   Installed\u001b[22m\u001b[39m LaTeXStrings ───────────────── v1.3.0\n",
            "\u001b[32m\u001b[1m   Installed\u001b[22m\u001b[39m Arpack ─────────────────────── v0.5.3\n",
            "\u001b[32m\u001b[1m   Installed\u001b[22m\u001b[39m Requires ───────────────────── v1.3.0\n",
            "\u001b[32m\u001b[1m   Installed\u001b[22m\u001b[39m Xorg_libXdmcp_jll ──────────── v1.1.3+4\n",
            "\u001b[32m\u001b[1m   Installed\u001b[22m\u001b[39m WoodburyMatrices ───────────── v0.5.5\n",
            "\u001b[32m\u001b[1m   Installed\u001b[22m\u001b[39m Observables ────────────────── v0.5.1\n",
            "\u001b[32m\u001b[1m   Installed\u001b[22m\u001b[39m Unzip ──────────────────────── v0.1.2\n",
            "\u001b[32m\u001b[1m    Updating\u001b[22m\u001b[39m `~/.julia/environments/v1.7/Project.toml`\n",
            " \u001b[90m [f3b207a7] \u001b[39m\u001b[92m+ StatsPlots v0.15.1\u001b[39m\n",
            "\u001b[32m\u001b[1m    Updating\u001b[22m\u001b[39m `~/.julia/environments/v1.7/Manifest.toml`\n",
            " \u001b[90m [621f4979] \u001b[39m\u001b[92m+ AbstractFFTs v1.2.1\u001b[39m\n",
            " \u001b[90m [79e6a3ab] \u001b[39m\u001b[92m+ Adapt v3.4.0\u001b[39m\n",
            " \u001b[90m [7d9fca2a] \u001b[39m\u001b[92m+ Arpack v0.5.3\u001b[39m\n",
            " \u001b[90m [13072b0f] \u001b[39m\u001b[92m+ AxisAlgorithms v1.0.1\u001b[39m\n",
            " \u001b[90m [aaaa29a8] \u001b[39m\u001b[92m+ Clustering v0.14.2\u001b[39m\n",
            " \u001b[90m [944b1d66] \u001b[39m\u001b[92m+ CodecZlib v0.7.0\u001b[39m\n",
            " \u001b[90m [35d6a980] \u001b[39m\u001b[92m+ ColorSchemes v3.19.0\u001b[39m\n",
            " \u001b[90m [3da002f7] \u001b[39m\u001b[92m+ ColorTypes v0.11.4\u001b[39m\n",
            " \u001b[90m [c3611d14] \u001b[39m\u001b[92m+ ColorVectorSpace v0.9.9\u001b[39m\n",
            " \u001b[90m [5ae59095] \u001b[39m\u001b[92m+ Colors v0.12.8\u001b[39m\n",
            " \u001b[90m [d38c429a] \u001b[39m\u001b[92m+ Contour v0.6.2\u001b[39m\n",
            " \u001b[90m [e7dc6d0d] \u001b[39m\u001b[92m+ DataValues v0.4.13\u001b[39m\n",
            " \u001b[90m [b4f34e82] \u001b[39m\u001b[92m+ Distances v0.10.7\u001b[39m\n",
            " \u001b[90m [c87230d0] \u001b[39m\u001b[92m+ FFMPEG v0.4.1\u001b[39m\n",
            " \u001b[90m [7a1cc6ca] \u001b[39m\u001b[92m+ FFTW v1.5.0\u001b[39m\n",
            " \u001b[90m [53c48c17] \u001b[39m\u001b[92m+ FixedPointNumbers v0.8.4\u001b[39m\n",
            " \u001b[90m [28b8d3ca] \u001b[39m\u001b[92m+ GR v0.66.0\u001b[39m\n",
            " \u001b[90m [5c1252a2] \u001b[39m\u001b[92m+ GeometryBasics v0.4.2\u001b[39m\n",
            " \u001b[90m [42e2da0e] \u001b[39m\u001b[92m+ Grisu v1.0.2\u001b[39m\n",
            " \u001b[90m [cd3eb016] \u001b[39m\u001b[92m+ HTTP v1.2.0\u001b[39m\n",
            " \u001b[90m [83e8ac13] \u001b[39m\u001b[92m+ IniFile v0.5.1\u001b[39m\n",
            " \u001b[90m [a98d9a8b] \u001b[39m\u001b[92m+ Interpolations v0.14.2\u001b[39m\n",
            " \u001b[90m [c8e1da08] \u001b[39m\u001b[92m+ IterTools v1.4.0\u001b[39m\n",
            " \u001b[90m [5ab0869b] \u001b[39m\u001b[92m+ KernelDensity v0.6.5\u001b[39m\n",
            " \u001b[90m [b964fa9f] \u001b[39m\u001b[92m+ LaTeXStrings v1.3.0\u001b[39m\n",
            " \u001b[90m [23fbe1c1] \u001b[39m\u001b[92m+ Latexify v0.15.16\u001b[39m\n",
            " \u001b[90m [e6f89c97] \u001b[39m\u001b[92m+ LoggingExtras v0.4.9\u001b[39m\n",
            " \u001b[90m [442fdcdd] \u001b[39m\u001b[92m+ Measures v0.3.1\u001b[39m\n",
            " \u001b[90m [6f286f6a] \u001b[39m\u001b[92m+ MultivariateStats v0.9.0\u001b[39m\n",
            " \u001b[90m [b8a86587] \u001b[39m\u001b[92m+ NearestNeighbors v0.4.11\u001b[39m\n",
            " \u001b[90m [510215fc] \u001b[39m\u001b[92m+ Observables v0.5.1\u001b[39m\n",
            " \u001b[90m [6fe1bfb0] \u001b[39m\u001b[92m+ OffsetArrays v1.12.7\u001b[39m\n",
            " \u001b[90m [ccf2f8ad] \u001b[39m\u001b[92m+ PlotThemes v3.0.0\u001b[39m\n",
            " \u001b[90m [995b91a9] \u001b[39m\u001b[92m+ PlotUtils v1.3.0\u001b[39m\n",
            " \u001b[90m [91a5bcdd] \u001b[39m\u001b[92m+ Plots v1.31.5\u001b[39m\n",
            " \u001b[90m [c84ed2f1] \u001b[39m\u001b[92m+ Ratios v0.4.3\u001b[39m\n",
            " \u001b[90m [3cdcf5f2] \u001b[39m\u001b[92m+ RecipesBase v1.2.1\u001b[39m\n",
            " \u001b[90m [01d81517] \u001b[39m\u001b[92m+ RecipesPipeline v0.6.3\u001b[39m\n",
            " \u001b[90m [05181044] \u001b[39m\u001b[92m+ RelocatableFolders v0.3.0\u001b[39m\n",
            " \u001b[90m [ae029012] \u001b[39m\u001b[92m+ Requires v1.3.0\u001b[39m\n",
            " \u001b[90m [6c6a2e73] \u001b[39m\u001b[92m+ Scratch v1.1.1\u001b[39m\n",
            " \u001b[90m [992d4aef] \u001b[39m\u001b[92m+ Showoff v1.0.3\u001b[39m\n",
            " \u001b[90m [777ac1f9] \u001b[39m\u001b[92m+ SimpleBufferStream v1.1.0\u001b[39m\n",
            " \u001b[90m [f3b207a7] \u001b[39m\u001b[92m+ StatsPlots v0.15.1\u001b[39m\n",
            " \u001b[90m [09ab397b] \u001b[39m\u001b[92m+ StructArrays v0.6.11\u001b[39m\n",
            " \u001b[90m [ab02a1b2] \u001b[39m\u001b[92m+ TableOperations v1.2.0\u001b[39m\n",
            " \u001b[90m [62fd8b95] \u001b[39m\u001b[92m+ TensorCore v0.1.1\u001b[39m\n",
            " \u001b[90m [3bb67fe8] \u001b[39m\u001b[92m+ TranscodingStreams v0.9.6\u001b[39m\n",
            " \u001b[90m [5c2747f8] \u001b[39m\u001b[92m+ URIs v1.4.0\u001b[39m\n",
            " \u001b[90m [1cfade01] \u001b[39m\u001b[92m+ UnicodeFun v0.4.1\u001b[39m\n",
            " \u001b[90m [41fe7b60] \u001b[39m\u001b[92m+ Unzip v0.1.2\u001b[39m\n",
            " \u001b[90m [cc8bc4a8] \u001b[39m\u001b[92m+ Widgets v0.6.6\u001b[39m\n",
            " \u001b[90m [efce3f68] \u001b[39m\u001b[92m+ WoodburyMatrices v0.5.5\u001b[39m\n",
            " \u001b[90m [68821587] \u001b[39m\u001b[92m+ Arpack_jll v3.5.1+1\u001b[39m\n",
            " \u001b[90m [6e34b625] \u001b[39m\u001b[92m+ Bzip2_jll v1.0.8+0\u001b[39m\n",
            " \u001b[90m [83423d85] \u001b[39m\u001b[92m+ Cairo_jll v1.16.1+1\u001b[39m\n",
            " \u001b[90m [5ae413db] \u001b[39m\u001b[92m+ EarCut_jll v2.2.3+0\u001b[39m\n",
            " \u001b[90m [2e619515] \u001b[39m\u001b[92m+ Expat_jll v2.4.8+0\u001b[39m\n",
            " \u001b[90m [b22a6f82] \u001b[39m\u001b[92m+ FFMPEG_jll v4.4.2+0\u001b[39m\n",
            " \u001b[90m [f5851436] \u001b[39m\u001b[92m+ FFTW_jll v3.3.10+0\u001b[39m\n",
            " \u001b[90m [a3f928ae] \u001b[39m\u001b[92m+ Fontconfig_jll v2.13.93+0\u001b[39m\n",
            " \u001b[90m [d7e528f0] \u001b[39m\u001b[92m+ FreeType2_jll v2.10.4+0\u001b[39m\n",
            " \u001b[90m [559328eb] \u001b[39m\u001b[92m+ FriBidi_jll v1.0.10+0\u001b[39m\n",
            " \u001b[90m [0656b61e] \u001b[39m\u001b[92m+ GLFW_jll v3.3.6+0\u001b[39m\n",
            " \u001b[90m [d2c73de3] \u001b[39m\u001b[92m+ GR_jll v0.66.0+0\u001b[39m\n",
            " \u001b[90m [78b55507] \u001b[39m\u001b[92m+ Gettext_jll v0.21.0+0\u001b[39m\n",
            " \u001b[90m [7746bdde] \u001b[39m\u001b[92m+ Glib_jll v2.68.3+2\u001b[39m\n",
            " \u001b[90m [3b182d85] \u001b[39m\u001b[92m+ Graphite2_jll v1.3.14+0\u001b[39m\n",
            " \u001b[90m [2e76f6c2] \u001b[39m\u001b[92m+ HarfBuzz_jll v2.8.1+1\u001b[39m\n",
            " \u001b[90m [1d5cc7b8] \u001b[39m\u001b[92m+ IntelOpenMP_jll v2018.0.3+2\u001b[39m\n",
            " \u001b[90m [aacddb02] \u001b[39m\u001b[92m+ JpegTurbo_jll v2.1.2+0\u001b[39m\n",
            " \u001b[90m [c1c5ebd0] \u001b[39m\u001b[92m+ LAME_jll v3.100.1+0\u001b[39m\n",
            " \u001b[90m [88015f11] \u001b[39m\u001b[92m+ LERC_jll v3.0.0+1\u001b[39m\n",
            " \u001b[90m [dd4b983a] \u001b[39m\u001b[92m+ LZO_jll v2.10.1+0\u001b[39m\n",
            " \u001b[90m [e9f186c6] \u001b[39m\u001b[92m+ Libffi_jll v3.2.2+1\u001b[39m\n",
            " \u001b[90m [d4300ac3] \u001b[39m\u001b[92m+ Libgcrypt_jll v1.8.7+0\u001b[39m\n",
            " \u001b[90m [7e76a0d4] \u001b[39m\u001b[92m+ Libglvnd_jll v1.3.0+3\u001b[39m\n",
            " \u001b[90m [7add5ba3] \u001b[39m\u001b[92m+ Libgpg_error_jll v1.42.0+0\u001b[39m\n",
            " \u001b[90m [94ce4f54] \u001b[39m\u001b[92m+ Libiconv_jll v1.16.1+1\u001b[39m\n",
            " \u001b[90m [4b2f31a3] \u001b[39m\u001b[92m+ Libmount_jll v2.35.0+0\u001b[39m\n",
            " \u001b[90m [89763e89] \u001b[39m\u001b[92m+ Libtiff_jll v4.4.0+0\u001b[39m\n",
            " \u001b[90m [38a345b3] \u001b[39m\u001b[92m+ Libuuid_jll v2.36.0+0\u001b[39m\n",
            " \u001b[90m [856f044c] \u001b[39m\u001b[92m+ MKL_jll v2022.0.0+0\u001b[39m\n",
            " \u001b[90m [e7412a2a] \u001b[39m\u001b[92m+ Ogg_jll v1.3.5+1\u001b[39m\n",
            " \u001b[90m [458c3c95] \u001b[39m\u001b[92m+ OpenSSL_jll v1.1.17+0\u001b[39m\n",
            " \u001b[90m [91d4177d] \u001b[39m\u001b[92m+ Opus_jll v1.3.2+0\u001b[39m\n",
            " \u001b[90m [2f80f16e] \u001b[39m\u001b[92m+ PCRE_jll v8.44.0+0\u001b[39m\n",
            " \u001b[90m [30392449] \u001b[39m\u001b[92m+ Pixman_jll v0.40.1+0\u001b[39m\n",
            " \u001b[90m [ea2cea3b] \u001b[39m\u001b[92m+ Qt5Base_jll v5.15.3+1\u001b[39m\n",
            " \u001b[90m [a2964d1f] \u001b[39m\u001b[92m+ Wayland_jll v1.19.0+0\u001b[39m\n",
            " \u001b[90m [2381bf8a] \u001b[39m\u001b[92m+ Wayland_protocols_jll v1.25.0+0\u001b[39m\n",
            " \u001b[90m [02c8fc9c] \u001b[39m\u001b[92m+ XML2_jll v2.9.14+0\u001b[39m\n",
            " \u001b[90m [aed1982a] \u001b[39m\u001b[92m+ XSLT_jll v1.1.34+0\u001b[39m\n",
            " \u001b[90m [4f6342f7] \u001b[39m\u001b[92m+ Xorg_libX11_jll v1.6.9+4\u001b[39m\n",
            " \u001b[90m [0c0b7dd1] \u001b[39m\u001b[92m+ Xorg_libXau_jll v1.0.9+4\u001b[39m\n",
            " \u001b[90m [935fb764] \u001b[39m\u001b[92m+ Xorg_libXcursor_jll v1.2.0+4\u001b[39m\n",
            " \u001b[90m [a3789734] \u001b[39m\u001b[92m+ Xorg_libXdmcp_jll v1.1.3+4\u001b[39m\n",
            " \u001b[90m [1082639a] \u001b[39m\u001b[92m+ Xorg_libXext_jll v1.3.4+4\u001b[39m\n",
            " \u001b[90m [d091e8ba] \u001b[39m\u001b[92m+ Xorg_libXfixes_jll v5.0.3+4\u001b[39m\n",
            " \u001b[90m [a51aa0fd] \u001b[39m\u001b[92m+ Xorg_libXi_jll v1.7.10+4\u001b[39m\n",
            " \u001b[90m [d1454406] \u001b[39m\u001b[92m+ Xorg_libXinerama_jll v1.1.4+4\u001b[39m\n",
            " \u001b[90m [ec84b674] \u001b[39m\u001b[92m+ Xorg_libXrandr_jll v1.5.2+4\u001b[39m\n",
            " \u001b[90m [ea2f1a96] \u001b[39m\u001b[92m+ Xorg_libXrender_jll v0.9.10+4\u001b[39m\n",
            " \u001b[90m [14d82f49] \u001b[39m\u001b[92m+ Xorg_libpthread_stubs_jll v0.1.0+3\u001b[39m\n",
            " \u001b[90m [c7cfdc94] \u001b[39m\u001b[92m+ Xorg_libxcb_jll v1.13.0+3\u001b[39m\n",
            " \u001b[90m [cc61e674] \u001b[39m\u001b[92m+ Xorg_libxkbfile_jll v1.1.0+4\u001b[39m\n",
            " \u001b[90m [12413925] \u001b[39m\u001b[92m+ Xorg_xcb_util_image_jll v0.4.0+1\u001b[39m\n",
            " \u001b[90m [2def613f] \u001b[39m\u001b[92m+ Xorg_xcb_util_jll v0.4.0+1\u001b[39m\n",
            " \u001b[90m [975044d2] \u001b[39m\u001b[92m+ Xorg_xcb_util_keysyms_jll v0.4.0+1\u001b[39m\n",
            " \u001b[90m [0d47668e] \u001b[39m\u001b[92m+ Xorg_xcb_util_renderutil_jll v0.3.9+1\u001b[39m\n",
            " \u001b[90m [c22f9ab0] \u001b[39m\u001b[92m+ Xorg_xcb_util_wm_jll v0.4.1+1\u001b[39m\n",
            " \u001b[90m [35661453] \u001b[39m\u001b[92m+ Xorg_xkbcomp_jll v1.4.2+4\u001b[39m\n",
            " \u001b[90m [33bec58e] \u001b[39m\u001b[92m+ Xorg_xkeyboard_config_jll v2.27.0+4\u001b[39m\n",
            " \u001b[90m [c5fb5394] \u001b[39m\u001b[92m+ Xorg_xtrans_jll v1.4.0+3\u001b[39m\n",
            " \u001b[90m [3161d3a3] \u001b[39m\u001b[92m+ Zstd_jll v1.5.2+0\u001b[39m\n",
            " \u001b[90m [a4ae2306] \u001b[39m\u001b[92m+ libaom_jll v3.4.0+0\u001b[39m\n",
            " \u001b[90m [0ac62f75] \u001b[39m\u001b[92m+ libass_jll v0.15.1+0\u001b[39m\n",
            " \u001b[90m [f638f0a6] \u001b[39m\u001b[92m+ libfdk_aac_jll v2.0.2+0\u001b[39m\n",
            " \u001b[90m [b53b4c65] \u001b[39m\u001b[92m+ libpng_jll v1.6.38+0\u001b[39m\n",
            " \u001b[90m [f27f6e37] \u001b[39m\u001b[92m+ libvorbis_jll v1.3.7+1\u001b[39m\n",
            " \u001b[90m [1270edf5] \u001b[39m\u001b[92m+ x264_jll v2021.5.5+0\u001b[39m\n",
            " \u001b[90m [dfaa095f] \u001b[39m\u001b[92m+ x265_jll v3.5.0+0\u001b[39m\n",
            " \u001b[90m [d8fb68d0] \u001b[39m\u001b[92m+ xkbcommon_jll v0.9.1+5\u001b[39m\n",
            " \u001b[90m [4af54fe1] \u001b[39m\u001b[92m+ LazyArtifacts\u001b[39m\n",
            "\u001b[32m\u001b[1m    Building\u001b[22m\u001b[39m GR → `~/.julia/scratchspaces/44cfe95a-1eb2-52ea-b672-e2afdf69b78f/037a1ca47e8a5989cc07d19729567bb71bfabd0c/build.log`\n",
            "\u001b[32m\u001b[1mPrecompiling\u001b[22m\u001b[39m project...\n",
            "\u001b[32m  ✓ \u001b[39m\u001b[90mTensorCore\u001b[39m\n",
            "\u001b[32m  ✓ \u001b[39m\u001b[90mLaTeXStrings\u001b[39m\n",
            "\u001b[32m  ✓ \u001b[39m\u001b[90mRecipesBase\u001b[39m\n",
            "\u001b[32m  ✓ \u001b[39m\u001b[90mContour\u001b[39m\n",
            "\u001b[32m  ✓ \u001b[39m\u001b[90mMeasures\u001b[39m\n",
            "\u001b[32m  ✓ \u001b[39m\u001b[90mWoodburyMatrices\u001b[39m\n",
            "\u001b[32m  ✓ \u001b[39m\u001b[90mIterTools\u001b[39m\n",
            "\u001b[32m  ✓ \u001b[39m\u001b[90mGrisu\u001b[39m\n",
            "\u001b[32m  ✓ \u001b[39m\u001b[90mFixedPointNumbers\u001b[39m\n",
            "\u001b[32m  ✓ \u001b[39m\u001b[90mObservables\u001b[39m\n",
            "\u001b[32m  ✓ \u001b[39m\u001b[90mRequires\u001b[39m\n",
            "\u001b[32m  ✓ \u001b[39m\u001b[90mUnzip\u001b[39m\n",
            "\u001b[32m  ✓ \u001b[39m\u001b[90mIniFile\u001b[39m\n",
            "\u001b[32m  ✓ \u001b[39m\u001b[90mDistances\u001b[39m\n",
            "\u001b[32m  ✓ \u001b[39m\u001b[90mSimpleBufferStream\u001b[39m\n",
            "\u001b[32m  ✓ \u001b[39m\u001b[90mURIs\u001b[39m\n",
            "\u001b[32m  ✓ \u001b[39m\u001b[90mAdapt\u001b[39m\n",
            "\u001b[32m  ✓ \u001b[39m\u001b[90mUnicodeFun\u001b[39m\n",
            "\u001b[32m  ✓ \u001b[39m\u001b[90mDataValues\u001b[39m\n",
            "\u001b[32m  ✓ \u001b[39m\u001b[90mScratch\u001b[39m\n",
            "\u001b[32m  ✓ \u001b[39m\u001b[90mLoggingExtras\u001b[39m\n",
            "\u001b[32m  ✓ \u001b[39m\u001b[90mAbstractFFTs\u001b[39m\n",
            "\u001b[32m  ✓ \u001b[39m\u001b[90mOpenSSL_jll\u001b[39m\n",
            "\u001b[32m  ✓ \u001b[39m\u001b[90mGraphite2_jll\u001b[39m\n",
            "\u001b[32m  ✓ \u001b[39m\u001b[90mLibmount_jll\u001b[39m\n",
            "\u001b[32m  ✓ \u001b[39m\u001b[90mBzip2_jll\u001b[39m\n",
            "\u001b[32m  ✓ \u001b[39m\u001b[90mXorg_libXau_jll\u001b[39m\n",
            "\u001b[32m  ✓ \u001b[39m\u001b[90mlibpng_jll\u001b[39m\n",
            "\u001b[32m  ✓ \u001b[39m\u001b[90mlibfdk_aac_jll\u001b[39m\n",
            "\u001b[32m  ✓ \u001b[39m\u001b[90mIntelOpenMP_jll\u001b[39m\n",
            "\u001b[32m  ✓ \u001b[39m\u001b[90mLAME_jll\u001b[39m\n",
            "\u001b[32m  ✓ \u001b[39m\u001b[90mPixman_jll\u001b[39m\n",
            "\u001b[32m  ✓ \u001b[39m\u001b[90mLERC_jll\u001b[39m\n",
            "\u001b[32m  ✓ \u001b[39m\u001b[90mEarCut_jll\u001b[39m\n",
            "\u001b[32m  ✓ \u001b[39m\u001b[90mJpegTurbo_jll\u001b[39m\n",
            "\u001b[32m  ✓ \u001b[39m\u001b[90mOgg_jll\u001b[39m\n",
            "\u001b[32m  ✓ \u001b[39m\u001b[90mXorg_libXdmcp_jll\u001b[39m\n",
            "\u001b[32m  ✓ \u001b[39m\u001b[90mx265_jll\u001b[39m\n",
            "\u001b[32m  ✓ \u001b[39m\u001b[90mx264_jll\u001b[39m\n",
            "\u001b[32m  ✓ \u001b[39m\u001b[90mlibaom_jll\u001b[39m\n",
            "\u001b[32m  ✓ \u001b[39m\u001b[90mArpack_jll\u001b[39m\n",
            "\u001b[32m  ✓ \u001b[39m\u001b[90mZstd_jll\u001b[39m\n",
            "\u001b[32m  ✓ \u001b[39m\u001b[90mExpat_jll\u001b[39m\n",
            "\u001b[32m  ✓ \u001b[39m\u001b[90mLZO_jll\u001b[39m\n",
            "\u001b[32m  ✓ \u001b[39m\u001b[90mOpus_jll\u001b[39m\n",
            "\u001b[32m  ✓ \u001b[39m\u001b[90mXorg_xtrans_jll\u001b[39m\n",
            "\u001b[32m  ✓ \u001b[39m\u001b[90mLibiconv_jll\u001b[39m\n",
            "\u001b[32m  ✓ \u001b[39m\u001b[90mPCRE_jll\u001b[39m\n",
            "\u001b[32m  ✓ \u001b[39m\u001b[90mLibffi_jll\u001b[39m\n",
            "\u001b[32m  ✓ \u001b[39m\u001b[90mWayland_protocols_jll\u001b[39m\n",
            "\u001b[32m  ✓ \u001b[39m\u001b[90mLibgpg_error_jll\u001b[39m\n",
            "\u001b[32m  ✓ \u001b[39m\u001b[90mXorg_libpthread_stubs_jll\u001b[39m\n",
            "\u001b[32m  ✓ \u001b[39m\u001b[90mFFTW_jll\u001b[39m\n",
            "\u001b[32m  ✓ \u001b[39m\u001b[90mFriBidi_jll\u001b[39m\n",
            "\u001b[32m  ✓ \u001b[39m\u001b[90mLibuuid_jll\u001b[39m\n",
            "\u001b[32m  ✓ \u001b[39m\u001b[90mAxisAlgorithms\u001b[39m\n",
            "\u001b[32m  ✓ \u001b[39m\u001b[90mShowoff\u001b[39m\n",
            "\u001b[32m  ✓ \u001b[39m\u001b[90mTableOperations\u001b[39m\n",
            "\u001b[32m  ✓ \u001b[39m\u001b[90mRatios\u001b[39m\n",
            "\u001b[32m  ✓ \u001b[39m\u001b[90mLatexify\u001b[39m\n",
            "\u001b[32m  ✓ \u001b[39m\u001b[90mNearestNeighbors\u001b[39m\n",
            "\u001b[32m  ✓ \u001b[39m\u001b[90mColorTypes\u001b[39m\n",
            "\u001b[32m  ✓ \u001b[39m\u001b[90mOffsetArrays\u001b[39m\n",
            "\u001b[32m  ✓ \u001b[39m\u001b[90mRelocatableFolders\u001b[39m\n",
            "\u001b[32m  ✓ \u001b[39m\u001b[90mFreeType2_jll\u001b[39m\n",
            "\u001b[32m  ✓ \u001b[39m\u001b[90mStructArrays\u001b[39m\n",
            "\u001b[32m  ✓ \u001b[39m\u001b[90mMKL_jll\u001b[39m\n",
            "\u001b[32m  ✓ \u001b[39m\u001b[90mlibvorbis_jll\u001b[39m\n",
            "\u001b[32m  ✓ \u001b[39m\u001b[90mArpack\u001b[39m\n",
            "\u001b[32m  ✓ \u001b[39m\u001b[90mLibtiff_jll\u001b[39m\n",
            "\u001b[32m  ✓ \u001b[39m\u001b[90mXML2_jll\u001b[39m\n",
            "\u001b[32m  ✓ \u001b[39m\u001b[90mHTTP\u001b[39m\n",
            "\u001b[32m  ✓ \u001b[39m\u001b[90mLibgcrypt_jll\u001b[39m\n",
            "\u001b[32m  ✓ \u001b[39m\u001b[90mClustering\u001b[39m\n",
            "\u001b[32m  ✓ \u001b[39m\u001b[90mColorVectorSpace\u001b[39m\n",
            "\u001b[32m  ✓ \u001b[39m\u001b[90mFontconfig_jll\u001b[39m\n",
            "\u001b[32m  ✓ \u001b[39m\u001b[90mColors\u001b[39m\n",
            "\u001b[32m  ✓ \u001b[39m\u001b[90mInterpolations\u001b[39m\n",
            "\u001b[32m  ✓ \u001b[39m\u001b[90mMultivariateStats\u001b[39m\n",
            "\u001b[32m  ✓ \u001b[39m\u001b[90mGettext_jll\u001b[39m\n",
            "\u001b[32m  ✓ \u001b[39m\u001b[90mWayland_jll\u001b[39m\n",
            "\u001b[32m  ✓ \u001b[39m\u001b[90mXSLT_jll\u001b[39m\n",
            "\u001b[32m  ✓ \u001b[39m\u001b[90mFFTW\u001b[39m\n",
            "\u001b[32m  ✓ \u001b[39m\u001b[90mWidgets\u001b[39m\n",
            "\u001b[32m  ✓ \u001b[39m\u001b[90mGlib_jll\u001b[39m\n",
            "\u001b[32m  ✓ \u001b[39m\u001b[90mXorg_libxcb_jll\u001b[39m\n",
            "\u001b[32m  ✓ \u001b[39m\u001b[90mGeometryBasics\u001b[39m\n",
            "\u001b[32m  ✓ \u001b[39m\u001b[90mXorg_xcb_util_jll\u001b[39m\n",
            "\u001b[32m  ✓ \u001b[39m\u001b[90mXorg_libX11_jll\u001b[39m\n",
            "\u001b[32m  ✓ \u001b[39m\u001b[90mXorg_xcb_util_image_jll\u001b[39m\n",
            "\u001b[32m  ✓ \u001b[39m\u001b[90mKernelDensity\u001b[39m\n",
            "\u001b[32m  ✓ \u001b[39m\u001b[90mXorg_xcb_util_keysyms_jll\u001b[39m\n",
            "\u001b[32m  ✓ \u001b[39m\u001b[90mXorg_xcb_util_renderutil_jll\u001b[39m\n",
            "\u001b[32m  ✓ \u001b[39m\u001b[90mXorg_xcb_util_wm_jll\u001b[39m\n",
            "\u001b[32m  ✓ \u001b[39m\u001b[90mXorg_libXrender_jll\u001b[39m\n",
            "\u001b[32m  ✓ \u001b[39m\u001b[90mXorg_libXext_jll\u001b[39m\n",
            "\u001b[32m  ✓ \u001b[39m\u001b[90mColorSchemes\u001b[39m\n",
            "\u001b[32m  ✓ \u001b[39m\u001b[90mXorg_libXfixes_jll\u001b[39m\n",
            "\u001b[32m  ✓ \u001b[39m\u001b[90mXorg_libxkbfile_jll\u001b[39m\n",
            "\u001b[32m  ✓ \u001b[39m\u001b[90mXorg_libXinerama_jll\u001b[39m\n",
            "\u001b[32m  ✓ \u001b[39m\u001b[90mLibglvnd_jll\u001b[39m\n",
            "\u001b[32m  ✓ \u001b[39m\u001b[90mXorg_libXrandr_jll\u001b[39m\n",
            "\u001b[32m  ✓ \u001b[39m\u001b[90mCairo_jll\u001b[39m\n",
            "\u001b[32m  ✓ \u001b[39m\u001b[90mXorg_libXcursor_jll\u001b[39m\n",
            "\u001b[32m  ✓ \u001b[39m\u001b[90mXorg_libXi_jll\u001b[39m\n",
            "\u001b[32m  ✓ \u001b[39m\u001b[90mXorg_xkbcomp_jll\u001b[39m\n",
            "\u001b[32m  ✓ \u001b[39m\u001b[90mHarfBuzz_jll\u001b[39m\n",
            "\u001b[32m  ✓ \u001b[39m\u001b[90mXorg_xkeyboard_config_jll\u001b[39m\n",
            "\u001b[91m  ✗ \u001b[39m\u001b[90mGLFW_jll\u001b[39m\n",
            "\u001b[32m  ✓ \u001b[39m\u001b[90mPlotUtils\u001b[39m\n",
            "\u001b[32m  ✓ \u001b[39m\u001b[90mlibass_jll\u001b[39m\n",
            "\u001b[32m  ✓ \u001b[39m\u001b[90mxkbcommon_jll\u001b[39m\n",
            "\u001b[32m  ✓ \u001b[39m\u001b[90mFFMPEG_jll\u001b[39m\n",
            "\u001b[91m  ✗ \u001b[39m\u001b[90mQt5Base_jll\u001b[39m\n",
            "\u001b[32m  ✓ \u001b[39m\u001b[90mFFMPEG\u001b[39m\n",
            "\u001b[32m  ✓ \u001b[39m\u001b[90mRecipesPipeline\u001b[39m\n",
            "\u001b[32m  ✓ \u001b[39m\u001b[90mPlotThemes\u001b[39m\n",
            "\u001b[91m  ✗ \u001b[39m\u001b[90mGR_jll\u001b[39m\n",
            "\u001b[32m  ✓ \u001b[39m\u001b[90mGR\u001b[39m\n",
            "\u001b[32m  ✓ \u001b[39m\u001b[90mPlots\u001b[39m\n",
            "\u001b[32m  ✓ \u001b[39mStatsPlots\n",
            "  118 dependencies successfully precompiled in 143 seconds (69 already precompiled)\n",
            "  \u001b[91m3\u001b[39m dependencies errored. To see a full report either run `import Pkg; Pkg.precompile()` or load the packages\n"
          ]
        }
      ]
    },
    {
      "cell_type": "code",
      "source": [
        "Random.seed!(101) #set seed\n",
        "rand(3,5) # uniform(0,1), default 0 to 1\n",
        "randn(3,5) # standard normal"
      ],
      "metadata": {
        "colab": {
          "base_uri": "https://localhost:8080/"
        },
        "id": "4SVvJO5PfS05",
        "outputId": "64c37179-fb03-4c8e-a183-7c1e0eb3f6a0"
      },
      "execution_count": null,
      "outputs": [
        {
          "output_type": "execute_result",
          "data": {
            "text/plain": [
              "TaskLocalRNG()"
            ]
          },
          "metadata": {},
          "execution_count": 23
        }
      ]
    },
    {
      "cell_type": "code",
      "source": [
        "mean(randn(1_000_000)) #underscore rather than , 1,000,000"
      ],
      "metadata": {
        "id": "6d1HIaerf0AF"
      },
      "execution_count": null,
      "outputs": []
    },
    {
      "cell_type": "code",
      "source": [
        "var(randn(1_000_000))"
      ],
      "metadata": {
        "id": "hwLKhlWvf6zR"
      },
      "execution_count": null,
      "outputs": []
    },
    {
      "cell_type": "code",
      "source": [
        "M = rand(Binomial(2,0.5),10,20)  #n=2, p=0.5 probability of success 0-2"
      ],
      "metadata": {
        "colab": {
          "base_uri": "https://localhost:8080/"
        },
        "id": "K9YsPtBTgDF3",
        "outputId": "69fe8149-7b68-4f22-cf64-6a58ba652f92"
      },
      "execution_count": null,
      "outputs": [
        {
          "output_type": "execute_result",
          "data": {
            "text/plain": [
              "10×20 Matrix{Int64}:\n",
              " 1  0  2  1  1  2  0  1  1  1  1  1  1  1  0  2  1  1  0  0\n",
              " 1  2  1  0  0  0  2  1  1  1  2  2  1  2  2  0  1  2  1  2\n",
              " 1  1  0  1  2  1  0  2  0  1  1  2  2  1  2  1  1  1  2  1\n",
              " 1  1  2  2  0  0  0  0  2  2  0  1  1  0  1  0  0  1  0  1\n",
              " 2  1  2  1  0  1  2  1  1  1  0  0  1  2  1  2  0  1  1  0\n",
              " 1  0  1  0  1  1  0  1  1  1  2  1  1  1  1  1  2  0  1  0\n",
              " 2  1  1  1  1  0  0  1  0  0  0  2  2  1  0  2  1  1  1  2\n",
              " 1  0  2  1  0  1  0  1  2  2  0  1  1  1  1  1  1  2  1  1\n",
              " 2  0  1  0  1  2  2  1  0  0  2  2  1  0  2  0  1  2  2  0\n",
              " 2  1  2  1  1  1  0  0  1  1  2  0  1  0  0  1  1  1  2  1"
            ]
          },
          "metadata": {},
          "execution_count": 24
        }
      ]
    },
    {
      "cell_type": "code",
      "source": [
        "M[:,1]  #all rows and 1 column"
      ],
      "metadata": {
        "colab": {
          "base_uri": "https://localhost:8080/"
        },
        "id": "w7ZlSuAZgWNd",
        "outputId": "0da438fe-22c7-4598-b425-a0521681130e"
      },
      "execution_count": null,
      "outputs": [
        {
          "output_type": "execute_result",
          "data": {
            "text/plain": [
              "10-element Vector{Int64}:\n",
              " 1\n",
              " 1\n",
              " 1\n",
              " 1\n",
              " 2\n",
              " 1\n",
              " 2\n",
              " 1\n",
              " 2\n",
              " 2"
            ]
          },
          "metadata": {},
          "execution_count": 25
        }
      ]
    },
    {
      "cell_type": "code",
      "source": [
        "M[1,:] #row"
      ],
      "metadata": {
        "colab": {
          "base_uri": "https://localhost:8080/"
        },
        "id": "iF2MbmVmhLTB",
        "outputId": "b9d2b5a3-b5eb-4a2a-ee6f-45603775c9a1"
      },
      "execution_count": null,
      "outputs": [
        {
          "output_type": "execute_result",
          "data": {
            "text/plain": [
              "20-element Vector{Int64}:\n",
              " 1\n",
              " 0\n",
              " 2\n",
              " 1\n",
              " 1\n",
              " 2\n",
              " 0\n",
              " 1\n",
              " 1\n",
              " 1\n",
              " 1\n",
              " 1\n",
              " 1\n",
              " 1\n",
              " 0\n",
              " 2\n",
              " 1\n",
              " 1\n",
              " 0\n",
              " 0"
            ]
          },
          "metadata": {},
          "execution_count": 27
        }
      ]
    },
    {
      "cell_type": "markdown",
      "source": [
        "Transposing and array gives a row vector"
      ],
      "metadata": {
        "id": "pKWQABKjhIXd"
      }
    },
    {
      "cell_type": "code",
      "source": [
        "M[1,:]'"
      ],
      "metadata": {
        "colab": {
          "base_uri": "https://localhost:8080/"
        },
        "id": "S_NSz1QWhI-P",
        "outputId": "5141d008-3c62-4c44-a12f-3346b5d03646"
      },
      "execution_count": null,
      "outputs": [
        {
          "output_type": "execute_result",
          "data": {
            "text/plain": [
              "1×20 adjoint(::Vector{Int64}) with eltype Int64:\n",
              " 1  0  2  1  1  2  0  1  1  1  1  1  1  1  0  2  1  1  0  0"
            ]
          },
          "metadata": {},
          "execution_count": 28
        }
      ]
    },
    {
      "cell_type": "code",
      "source": [
        "M[1,:]'M[1,:] #Sum of squares of elements in first row\n",
        "M[1,:]'*M[1,:]\n",
        "dot(M[1,:],M[1,:])\n",
        "M[1,:].^2 #manual dot product\n",
        "sum(M[1,:].^2)"
      ],
      "metadata": {
        "colab": {
          "base_uri": "https://localhost:8080/"
        },
        "id": "cDQkPwR9haLH",
        "outputId": "72ee7538-559b-4212-e89f-27f175495f22"
      },
      "execution_count": null,
      "outputs": [
        {
          "output_type": "execute_result",
          "data": {
            "text/plain": [
              "24"
            ]
          },
          "metadata": {},
          "execution_count": 30
        }
      ]
    },
    {
      "cell_type": "markdown",
      "source": [
        "Matrix algebra pkg"
      ],
      "metadata": {
        "id": "YWdW3sTnh4xc"
      }
    },
    {
      "cell_type": "code",
      "source": [
        "1I(3)   #1 in diagonals for 3*3\n"
      ],
      "metadata": {
        "colab": {
          "base_uri": "https://localhost:8080/"
        },
        "id": "eRCmi4QAh6xd",
        "outputId": "c54e2428-2337-49d6-faec-34a72d3a6c3a"
      },
      "execution_count": null,
      "outputs": [
        {
          "output_type": "execute_result",
          "data": {
            "text/plain": [
              "3×3 Diagonal{Int64, Vector{Int64}}:\n",
              " 1  ⋅  ⋅\n",
              " ⋅  1  ⋅\n",
              " ⋅  ⋅  1"
            ]
          },
          "metadata": {},
          "execution_count": 31
        }
      ]
    },
    {
      "cell_type": "code",
      "source": [
        "A = M'M + I   # assign two matrix\n",
        "B = rand(3,3) + I"
      ],
      "metadata": {
        "colab": {
          "base_uri": "https://localhost:8080/"
        },
        "id": "B6KJRFKXiGDS",
        "outputId": "71672318-c9f5-4c07-83be-a5a648f9aecb"
      },
      "execution_count": null,
      "outputs": [
        {
          "output_type": "execute_result",
          "data": {
            "text/plain": [
              "20×20 Matrix{Int64}:\n",
              " 23  10  20  11  10  13  10  12  11  …  16  17  12  13  15  12  17  17  11\n",
              " 10  10   9   6   4   3   6   6   6      9   9   8   8   6   5   9   8   9\n",
              " 20   9  25  13   7  13   8  10  16     13  15  12  11  15  11  17  13  10\n",
              " 11   6  13  11   5   6   2   6   9      8  10   6   6   9   5   9   7   7\n",
              " 10   4   7   5  10   8   2   8   3     10  10   5   7   8   8   7  10   5\n",
              " 13   3  13   6   8  14   6   9   7  …  10  10   7   9  10   9  11  11   3\n",
              " 10   6   8   2   2   6  13   6   4      8   6   8  10   4   4  10   8   4\n",
              " 12   6  10   6   8   9   6  12   6     13  12  10  11  10   9  11  11   7\n",
              " 11   6  16   9   3   7   4   6  14      8   9   8   8   8   7  11   7   7\n",
              " 12   7  16  10   5   8   4   8  13     10  11   9  10   9   8  12   9   8\n",
              " 14   7  12   4   9  11   8   9   7  …  13  11   8  12   7  12  12  14   7\n",
              " 16   9  13   8  10  10   8  13   8     21  16  11  15  10  12  16  14  12\n",
              " 17   9  15  10  10  10   6  12   9     16  17  11  12  13  11  14  14  11\n",
              " 12   8  12   6   5   7   8  10   8     11  11  14  10  11   8  11   9   8\n",
              " 13   8  11   6   7   9  10  11   8     15  12  10  17   6   9  14  13   8\n",
              " 15   6  15   9   8  10   4  10   8  …  10  13  11   6  17   9  10  10   7\n",
              " 12   5  11   5   8   9   4   9   7     12  11   8   9   9  12  10  11   7\n",
              " 17   9  17   9   7  11  10  11  11     16  14  11  14  10  10  19  14  11\n",
              " 17   8  13   7  10  11   8  11   7     14  14   9  13  10  11  14  18   9\n",
              " 11   9  10   7   5   3   4   7   7     12  11   8   8   7   7  11   9  13"
            ]
          },
          "metadata": {},
          "execution_count": 32
        }
      ]
    },
    {
      "cell_type": "code",
      "source": [
        "B == B*I  #same dimension matrix\n",
        "B === B*I\n",
        "\n"
      ],
      "metadata": {
        "id": "7klmZn3HitEO"
      },
      "execution_count": null,
      "outputs": []
    },
    {
      "cell_type": "markdown",
      "source": [
        "Diagonal Matrix from"
      ],
      "metadata": {
        "id": "Xw2JZ_eDi6-2"
      }
    },
    {
      "cell_type": "code",
      "source": [
        "Diagonal(A)"
      ],
      "metadata": {
        "id": "Cc6n2hjii7xu"
      },
      "execution_count": null,
      "outputs": []
    },
    {
      "cell_type": "code",
      "source": [
        "v = [1,2,3]\n",
        "Diagonal(v)"
      ],
      "metadata": {
        "id": "pQ6YfSTLi9kC"
      },
      "execution_count": null,
      "outputs": []
    },
    {
      "cell_type": "code",
      "source": [
        "B = A[1:2,3:4]   #subset a matrix"
      ],
      "metadata": {
        "id": "ykr3WGydi_42"
      },
      "execution_count": null,
      "outputs": []
    },
    {
      "cell_type": "code",
      "source": [
        "C = A[1:2,11:end]  #end to end"
      ],
      "metadata": {
        "id": "vu2jyjVEjJfU"
      },
      "execution_count": null,
      "outputs": []
    },
    {
      "cell_type": "code",
      "source": [
        "hcat(B,C)   #bind rows of two matrix horizen\n",
        "[ \n",
        "A[1:2,:]\n",
        "A[11:end,:]\n",
        "]\n",
        "vcat(A[1:2,:],A[11:end,:])     #bind columns of two matrix vert\n"
      ],
      "metadata": {
        "id": "H4uL-bhVjNHo"
      },
      "execution_count": null,
      "outputs": []
    },
    {
      "cell_type": "markdown",
      "source": [
        "Computing X’X as the product of full-stored X’ and X"
      ],
      "metadata": {
        "id": "vcbOn7UToPK7"
      }
    },
    {
      "cell_type": "code",
      "source": [
        "using DataFrames\n",
        "data = DataFrame(x=[1,1,2,2,2,2,3,3,4,1],y=[1.1,1.2,1.9,1.2,2.0,1.7,1.0,1.7,1.1,1.7])\n",
        "n = size(data,1)\n",
        "p = length(unique(data[!,:x]))\n",
        "X = zeros(n,p);"
      ],
      "metadata": {
        "id": "Go0BP5N5oSJg"
      },
      "execution_count": 39,
      "outputs": []
    },
    {
      "cell_type": "code",
      "source": [
        "X"
      ],
      "metadata": {
        "colab": {
          "base_uri": "https://localhost:8080/"
        },
        "id": "83yBqUz41Zn6",
        "outputId": "76122986-3472-41bc-dac9-769bb45dc295"
      },
      "execution_count": 40,
      "outputs": [
        {
          "output_type": "execute_result",
          "data": {
            "text/plain": [
              "10×4 Matrix{Float64}:\n",
              " 0.0  0.0  0.0  0.0\n",
              " 0.0  0.0  0.0  0.0\n",
              " 0.0  0.0  0.0  0.0\n",
              " 0.0  0.0  0.0  0.0\n",
              " 0.0  0.0  0.0  0.0\n",
              " 0.0  0.0  0.0  0.0\n",
              " 0.0  0.0  0.0  0.0\n",
              " 0.0  0.0  0.0  0.0\n",
              " 0.0  0.0  0.0  0.0\n",
              " 0.0  0.0  0.0  0.0"
            ]
          },
          "metadata": {},
          "execution_count": 40
        }
      ]
    },
    {
      "cell_type": "code",
      "source": [
        "@time for i = 1:n\n",
        "    j = data[!,:x][i]\n",
        "    X[i,j] = 1.0\n",
        "end"
      ],
      "metadata": {
        "colab": {
          "base_uri": "https://localhost:8080/"
        },
        "id": "BwttQJbtoWEq",
        "outputId": "ac42d264-e99f-4e17-f608-03df9e658c21"
      },
      "execution_count": 41,
      "outputs": [
        {
          "output_type": "stream",
          "name": "stdout",
          "text": [
            "  0.000020 seconds (11 allocations: 352 bytes)\n"
          ]
        }
      ]
    },
    {
      "cell_type": "code",
      "source": [
        "X = [ones(n) X]   #put intercept and matrix together"
      ],
      "metadata": {
        "colab": {
          "base_uri": "https://localhost:8080/"
        },
        "id": "i_0K9Bkxofj4",
        "outputId": "e224c9ac-37bb-4b38-c181-f72ac1232177"
      },
      "execution_count": 42,
      "outputs": [
        {
          "output_type": "execute_result",
          "data": {
            "text/plain": [
              "10×5 Matrix{Float64}:\n",
              " 1.0  1.0  0.0  0.0  0.0\n",
              " 1.0  1.0  0.0  0.0  0.0\n",
              " 1.0  0.0  1.0  0.0  0.0\n",
              " 1.0  0.0  1.0  0.0  0.0\n",
              " 1.0  0.0  1.0  0.0  0.0\n",
              " 1.0  0.0  1.0  0.0  0.0\n",
              " 1.0  0.0  0.0  1.0  0.0\n",
              " 1.0  0.0  0.0  1.0  0.0\n",
              " 1.0  0.0  0.0  0.0  1.0\n",
              " 1.0  1.0  0.0  0.0  0.0"
            ]
          },
          "metadata": {},
          "execution_count": 42
        }
      ]
    },
    {
      "cell_type": "code",
      "source": [
        "y = data[!,:y];\n",
        "lhs = X'X\n",
        "rhs = X'y;\n",
        "sol = lhs\\rhs\n",
        "[lhs*sol rhs]"
      ],
      "metadata": {
        "colab": {
          "base_uri": "https://localhost:8080/"
        },
        "id": "W-lX9QGPop8i",
        "outputId": "2d31eb98-7718-4b34-b259-3c13b2bd6dcb"
      },
      "execution_count": 43,
      "outputs": [
        {
          "output_type": "execute_result",
          "data": {
            "text/plain": [
              "5×2 Matrix{Float64}:\n",
              " 14.6  14.6\n",
              "  4.0   4.0\n",
              "  6.8   6.8\n",
              "  2.7   2.7\n",
              "  1.1   1.1"
            ]
          },
          "metadata": {},
          "execution_count": 43
        }
      ]
    },
    {
      "cell_type": "code",
      "source": [
        "y = data[!,:y];"
      ],
      "metadata": {
        "id": "HQWvw4CsolU1"
      },
      "execution_count": null,
      "outputs": []
    },
    {
      "cell_type": "markdown",
      "source": [
        "Computing X’X as the product of sparse-stored X’ and X"
      ],
      "metadata": {
        "id": "yiUOfVB2rJV3"
      }
    },
    {
      "cell_type": "code",
      "source": [
        "using SparseArrays, LinearAlgebra\n",
        "X = sparse(1:n,data[!,:x],1.0)\n",
        "X =[ones(n) X]"
      ],
      "metadata": {
        "colab": {
          "base_uri": "https://localhost:8080/"
        },
        "id": "iXSn4W7DrJfO",
        "outputId": "068c9f7d-53eb-4c2f-824d-c9aab25d34d8"
      },
      "execution_count": 44,
      "outputs": [
        {
          "output_type": "execute_result",
          "data": {
            "text/plain": [
              "10×5 SparseMatrixCSC{Float64, Int64} with 20 stored entries:\n",
              " 1.0  1.0   ⋅    ⋅    ⋅ \n",
              " 1.0  1.0   ⋅    ⋅    ⋅ \n",
              " 1.0   ⋅   1.0   ⋅    ⋅ \n",
              " 1.0   ⋅   1.0   ⋅    ⋅ \n",
              " 1.0   ⋅   1.0   ⋅    ⋅ \n",
              " 1.0   ⋅   1.0   ⋅    ⋅ \n",
              " 1.0   ⋅    ⋅   1.0   ⋅ \n",
              " 1.0   ⋅    ⋅   1.0   ⋅ \n",
              " 1.0   ⋅    ⋅    ⋅   1.0\n",
              " 1.0  1.0   ⋅    ⋅    ⋅ "
            ]
          },
          "metadata": {},
          "execution_count": 44
        }
      ]
    },
    {
      "cell_type": "code",
      "source": [
        "Matrix(X)"
      ],
      "metadata": {
        "colab": {
          "base_uri": "https://localhost:8080/"
        },
        "id": "TTT0ioFZrhQp",
        "outputId": "c93e6457-cee3-4954-d4e8-3cb59c3f276e"
      },
      "execution_count": 45,
      "outputs": [
        {
          "output_type": "execute_result",
          "data": {
            "text/plain": [
              "10×5 Matrix{Float64}:\n",
              " 1.0  1.0  0.0  0.0  0.0\n",
              " 1.0  1.0  0.0  0.0  0.0\n",
              " 1.0  0.0  1.0  0.0  0.0\n",
              " 1.0  0.0  1.0  0.0  0.0\n",
              " 1.0  0.0  1.0  0.0  0.0\n",
              " 1.0  0.0  1.0  0.0  0.0\n",
              " 1.0  0.0  0.0  1.0  0.0\n",
              " 1.0  0.0  0.0  1.0  0.0\n",
              " 1.0  0.0  0.0  0.0  1.0\n",
              " 1.0  1.0  0.0  0.0  0.0"
            ]
          },
          "metadata": {},
          "execution_count": 45
        }
      ]
    },
    {
      "cell_type": "code",
      "source": [
        "lhs = X'X\n",
        "rhs = X'y"
      ],
      "metadata": {
        "colab": {
          "base_uri": "https://localhost:8080/"
        },
        "id": "f3b1SQsRrh3t",
        "outputId": "5c7f8c6d-a5cc-469f-924f-31b28f7cd5f4"
      },
      "execution_count": 46,
      "outputs": [
        {
          "output_type": "execute_result",
          "data": {
            "text/plain": [
              "5-element Vector{Float64}:\n",
              " 14.599999999999998\n",
              "  4.0\n",
              "  6.8\n",
              "  2.7\n",
              "  1.1"
            ]
          },
          "metadata": {},
          "execution_count": 46
        }
      ]
    },
    {
      "cell_type": "code",
      "source": [
        "QRLhs = qr(lhs) \n",
        "sol1 = QRLhs\\rhs"
      ],
      "metadata": {
        "colab": {
          "base_uri": "https://localhost:8080/"
        },
        "id": "rfdv-Jb1rjyu",
        "outputId": "93bc7c82-ba9c-42b5-e8e9-986af78fd766"
      },
      "execution_count": 24,
      "outputs": [
        {
          "output_type": "execute_result",
          "data": {
            "text/plain": [
              "5-element Vector{Float64}:\n",
              " 1.0999999999999992\n",
              " 0.23333333333333364\n",
              " 0.6000000000000002\n",
              " 0.2500000000000008\n",
              " 0.0"
            ]
          },
          "metadata": {},
          "execution_count": 24
        }
      ]
    },
    {
      "cell_type": "code",
      "source": [
        "[lhs*sol1 rhs]"
      ],
      "metadata": {
        "colab": {
          "base_uri": "https://localhost:8080/"
        },
        "id": "oaWA52Mmr9k1",
        "outputId": "fdb7569e-9d33-4266-deb7-b264937303ca"
      },
      "execution_count": 25,
      "outputs": [
        {
          "output_type": "execute_result",
          "data": {
            "text/plain": [
              "5×2 Matrix{Float64}:\n",
              " 14.6  14.6\n",
              "  4.0   4.0\n",
              "  6.8   6.8\n",
              "  2.7   2.7\n",
              "  1.1   1.1"
            ]
          },
          "metadata": {},
          "execution_count": 25
        }
      ]
    },
    {
      "cell_type": "code",
      "source": [
        "[lhs*sol1 rhs]"
      ],
      "metadata": {
        "id": "mBYEWx4vrlsM"
      },
      "execution_count": null,
      "outputs": []
    },
    {
      "cell_type": "markdown",
      "source": [
        ""
      ],
      "metadata": {
        "id": "5JN-IkEkshe6"
      }
    },
    {
      "cell_type": "code",
      "source": [
        "k = [0.0;1.0;-1.0;0;0.0]"
      ],
      "metadata": {
        "colab": {
          "base_uri": "https://localhost:8080/"
        },
        "id": "zVrdWifsshlR",
        "outputId": "281ccddd-43ea-44e6-da21-1c48d21bccf3"
      },
      "execution_count": 26,
      "outputs": [
        {
          "output_type": "execute_result",
          "data": {
            "text/plain": [
              "5-element Vector{Float64}:\n",
              "  0.0\n",
              "  1.0\n",
              " -1.0\n",
              "  0.0\n",
              "  0.0"
            ]
          },
          "metadata": {},
          "execution_count": 26
        }
      ]
    },
    {
      "cell_type": "code",
      "source": [
        "b = lhs\\k\n",
        "\n"
      ],
      "metadata": {
        "colab": {
          "base_uri": "https://localhost:8080/"
        },
        "id": "6dUas96Ysyhn",
        "outputId": "05408934-41d6-458f-a2d4-1e85cedf6bd0"
      },
      "execution_count": 27,
      "outputs": [
        {
          "output_type": "execute_result",
          "data": {
            "text/plain": [
              "5-element Vector{Float64}:\n",
              " -0.49999999999999994\n",
              "  0.8333333333333335\n",
              "  0.24999999999999994\n",
              "  0.49999999999999983\n",
              "  0.49999999999999994"
            ]
          },
          "metadata": {},
          "execution_count": 27
        }
      ]
    },
    {
      "cell_type": "code",
      "source": [
        "round.(lhs*b,digits=3)"
      ],
      "metadata": {
        "colab": {
          "base_uri": "https://localhost:8080/"
        },
        "id": "i7f-bZj2s5wx",
        "outputId": "f6c20630-b462-4b22-cfee-bbdf84c472a4"
      },
      "execution_count": 28,
      "outputs": [
        {
          "output_type": "execute_result",
          "data": {
            "text/plain": [
              "5-element Vector{Float64}:\n",
              "  0.0\n",
              "  1.0\n",
              " -1.0\n",
              " -0.0\n",
              "  0.0"
            ]
          },
          "metadata": {},
          "execution_count": 28
        }
      ]
    },
    {
      "cell_type": "code",
      "source": [
        "using DataFrames\n",
        "data = DataFrame(x=[1,1,2,2,2,2,3,3,4,1],y=[1.1,1.2,1.9,1.2,2.0,1.7,1.0,1.7,1.1,1.7])"
      ],
      "metadata": {
        "colab": {
          "base_uri": "https://localhost:8080/",
          "height": 305
        },
        "id": "TQ7Q-D3gzxd_",
        "outputId": "f07285c4-f7f5-4a3d-b066-9a78597e5e54"
      },
      "execution_count": 29,
      "outputs": [
        {
          "output_type": "execute_result",
          "data": {
            "text/plain": [
              "\u001b[1m10×2 DataFrame\u001b[0m\n",
              "\u001b[1m Row \u001b[0m│\u001b[1m x     \u001b[0m\u001b[1m y       \u001b[0m\n",
              "\u001b[1m     \u001b[0m│\u001b[90m Int64 \u001b[0m\u001b[90m Float64 \u001b[0m\n",
              "─────┼────────────────\n",
              "   1 │     1      1.1\n",
              "   2 │     1      1.2\n",
              "   3 │     2      1.9\n",
              "   4 │     2      1.2\n",
              "   5 │     2      2.0\n",
              "   6 │     2      1.7\n",
              "   7 │     3      1.0\n",
              "   8 │     3      1.7\n",
              "   9 │     4      1.1\n",
              "  10 │     1      1.7"
            ],
            "text/html": [
              "<table class=\"data-frame\"><thead><tr><th></th><th>x</th><th>y</th></tr><tr><th></th><th>Int64</th><th>Float64</th></tr></thead><tbody><p>10 rows × 2 columns</p><tr><th>1</th><td>1</td><td>1.1</td></tr><tr><th>2</th><td>1</td><td>1.2</td></tr><tr><th>3</th><td>2</td><td>1.9</td></tr><tr><th>4</th><td>2</td><td>1.2</td></tr><tr><th>5</th><td>2</td><td>2.0</td></tr><tr><th>6</th><td>2</td><td>1.7</td></tr><tr><th>7</th><td>3</td><td>1.0</td></tr><tr><th>8</th><td>3</td><td>1.7</td></tr><tr><th>9</th><td>4</td><td>1.1</td></tr><tr><th>10</th><td>1</td><td>1.7</td></tr></tbody></table>"
            ],
            "text/latex": "\\begin{tabular}{r|cc}\n\t& x & y\\\\\n\t\\hline\n\t& Int64 & Float64\\\\\n\t\\hline\n\t1 & 1 & 1.1 \\\\\n\t2 & 1 & 1.2 \\\\\n\t3 & 2 & 1.9 \\\\\n\t4 & 2 & 1.2 \\\\\n\t5 & 2 & 2.0 \\\\\n\t6 & 2 & 1.7 \\\\\n\t7 & 3 & 1.0 \\\\\n\t8 & 3 & 1.7 \\\\\n\t9 & 4 & 1.1 \\\\\n\t10 & 1 & 1.7 \\\\\n\\end{tabular}\n"
          },
          "metadata": {},
          "execution_count": 29
        }
      ]
    },
    {
      "cell_type": "code",
      "source": [
        "qr()"
      ],
      "metadata": {
        "colab": {
          "base_uri": "https://localhost:8080/",
          "height": 1000
        },
        "id": "kq-j6kZo2qua",
        "outputId": "1385d397-187d-47ae-f7b6-a6771806b8cf"
      },
      "execution_count": 47,
      "outputs": [
        {
          "output_type": "execute_result",
          "data": {
            "text/plain": [
              "\u001b[36m  qr(A, pivot = NoPivot(); blocksize) -> F\u001b[39m\n",
              "\n",
              "  Compute the QR factorization of the matrix \u001b[36mA\u001b[39m: an orthogonal (or unitary if \u001b[36mA\u001b[39m\n",
              "  is complex-valued) matrix \u001b[36mQ\u001b[39m, and an upper triangular matrix \u001b[36mR\u001b[39m such that\n",
              "\n",
              "\u001b[35m  A = Q R\u001b[39m\n",
              "\n",
              "  The returned object \u001b[36mF\u001b[39m stores the factorization in a packed format:\n",
              "\n",
              "    •  if \u001b[36mpivot == ColumnNorm()\u001b[39m then \u001b[36mF\u001b[39m is a \u001b[36mQRPivoted\u001b[39m object,\n",
              "\n",
              "    •  otherwise if the element type of \u001b[36mA\u001b[39m is a BLAS type (\u001b[36mFloat32\u001b[39m,\n",
              "       \u001b[36mFloat64\u001b[39m, \u001b[36mComplexF32\u001b[39m or \u001b[36mComplexF64\u001b[39m), then \u001b[36mF\u001b[39m is a \u001b[36mQRCompactWY\u001b[39m\n",
              "       object,\n",
              "\n",
              "    •  otherwise \u001b[36mF\u001b[39m is a \u001b[36mQR\u001b[39m object.\n",
              "\n",
              "  The individual components of the decomposition \u001b[36mF\u001b[39m can be retrieved via\n",
              "  property accessors:\n",
              "\n",
              "    •  \u001b[36mF.Q\u001b[39m: the orthogonal/unitary matrix \u001b[36mQ\u001b[39m\n",
              "\n",
              "    •  \u001b[36mF.R\u001b[39m: the upper triangular matrix \u001b[36mR\u001b[39m\n",
              "\n",
              "    •  \u001b[36mF.p\u001b[39m: the permutation vector of the pivot (\u001b[36mQRPivoted\u001b[39m only)\n",
              "\n",
              "    •  \u001b[36mF.P\u001b[39m: the permutation matrix of the pivot (\u001b[36mQRPivoted\u001b[39m only)\n",
              "\n",
              "  Iterating the decomposition produces the components \u001b[36mQ\u001b[39m, \u001b[36mR\u001b[39m, and if extant \u001b[36mp\u001b[39m.\n",
              "\n",
              "  The following functions are available for the \u001b[36mQR\u001b[39m objects: \u001b[36minv\u001b[39m, \u001b[36msize\u001b[39m, and \u001b[36m\\\u001b[39m.\n",
              "  When \u001b[36mA\u001b[39m is rectangular, \u001b[36m\\\u001b[39m will return a least squares solution and if the\n",
              "  solution is not unique, the one with smallest norm is returned. When \u001b[36mA\u001b[39m is\n",
              "  not full rank, factorization with (column) pivoting is required to obtain a\n",
              "  minimum norm solution.\n",
              "\n",
              "  Multiplication with respect to either full/square or non-full/square \u001b[36mQ\u001b[39m is\n",
              "  allowed, i.e. both \u001b[36mF.Q*F.R\u001b[39m and \u001b[36mF.Q*A\u001b[39m are supported. A \u001b[36mQ\u001b[39m matrix can be\n",
              "  converted into a regular matrix with \u001b[36mMatrix\u001b[39m. This operation returns the\n",
              "  \"thin\" Q factor, i.e., if \u001b[36mA\u001b[39m is \u001b[36mm\u001b[39m×\u001b[36mn\u001b[39m with \u001b[36mm>=n\u001b[39m, then \u001b[36mMatrix(F.Q)\u001b[39m yields an \u001b[36mm\u001b[39m×\u001b[36mn\u001b[39m\n",
              "  matrix with orthonormal columns. To retrieve the \"full\" Q factor, an \u001b[36mm\u001b[39m×\u001b[36mm\u001b[39m\n",
              "  orthogonal matrix, use \u001b[36mF.Q*Matrix(I,m,m)\u001b[39m. If \u001b[36mm<=n\u001b[39m, then \u001b[36mMatrix(F.Q)\u001b[39m yields\n",
              "  an \u001b[36mm\u001b[39m×\u001b[36mm\u001b[39m orthogonal matrix.\n",
              "\n",
              "  The block size for QR decomposition can be specified by keyword argument\n",
              "  \u001b[36mblocksize :: Integer\u001b[39m when \u001b[36mpivot == NoPivot()\u001b[39m and \u001b[36mA isa\n",
              "  StridedMatrix{<:BlasFloat}\u001b[39m. It is ignored when \u001b[36mblocksize > minimum(size(A))\u001b[39m.\n",
              "  See \u001b[36mQRCompactWY\u001b[39m.\n",
              "\n",
              "\u001b[39m\u001b[1m  │ \u001b[22m\u001b[39m\u001b[1mJulia 1.4\u001b[22m\n",
              "\u001b[39m\u001b[1m  │\u001b[22m\n",
              "\u001b[39m\u001b[1m  │\u001b[22m  The \u001b[36mblocksize\u001b[39m keyword argument requires Julia 1.4 or later.\n",
              "\n",
              "\u001b[1m  Examples\u001b[22m\n",
              "\u001b[1m  ≡≡≡≡≡≡≡≡≡≡\u001b[22m\n",
              "\n",
              "\u001b[36m  julia> A = [3.0 -6.0; 4.0 -8.0; 0.0 1.0]\u001b[39m\n",
              "\u001b[36m  3×2 Matrix{Float64}:\u001b[39m\n",
              "\u001b[36m   3.0  -6.0\u001b[39m\n",
              "\u001b[36m   4.0  -8.0\u001b[39m\n",
              "\u001b[36m   0.0   1.0\u001b[39m\n",
              "\u001b[36m  \u001b[39m\n",
              "\u001b[36m  julia> F = qr(A)\u001b[39m\n",
              "\u001b[36m  LinearAlgebra.QRCompactWY{Float64, Matrix{Float64}}\u001b[39m\n",
              "\u001b[36m  Q factor:\u001b[39m\n",
              "\u001b[36m  3×3 LinearAlgebra.QRCompactWYQ{Float64, Matrix{Float64}}:\u001b[39m\n",
              "\u001b[36m   -0.6   0.0   0.8\u001b[39m\n",
              "\u001b[36m   -0.8   0.0  -0.6\u001b[39m\n",
              "\u001b[36m    0.0  -1.0   0.0\u001b[39m\n",
              "\u001b[36m  R factor:\u001b[39m\n",
              "\u001b[36m  2×2 Matrix{Float64}:\u001b[39m\n",
              "\u001b[36m   -5.0  10.0\u001b[39m\n",
              "\u001b[36m    0.0  -1.0\u001b[39m\n",
              "\u001b[36m  \u001b[39m\n",
              "\u001b[36m  julia> F.Q * F.R == A\u001b[39m\n",
              "\u001b[36m  true\u001b[39m\n",
              "\n",
              "\u001b[36m\u001b[1m  │ \u001b[22m\u001b[39m\u001b[36m\u001b[1mNote\u001b[22m\u001b[39m\n",
              "\u001b[36m\u001b[1m  │\u001b[22m\u001b[39m\n",
              "\u001b[36m\u001b[1m  │\u001b[22m\u001b[39m  \u001b[36mqr\u001b[39m returns multiple types because LAPACK uses several\n",
              "\u001b[36m\u001b[1m  │\u001b[22m\u001b[39m  representations that minimize the memory storage requirements of\n",
              "\u001b[36m\u001b[1m  │\u001b[22m\u001b[39m  products of Householder elementary reflectors, so that the \u001b[36mQ\u001b[39m and \u001b[36mR\u001b[39m\n",
              "\u001b[36m\u001b[1m  │\u001b[22m\u001b[39m  matrices can be stored compactly rather as two separate dense\n",
              "\u001b[36m\u001b[1m  │\u001b[22m\u001b[39m  matrices.\n",
              "\n",
              "  ────────────────────────────────────────────────────────────────────────────\n",
              "\n",
              "\u001b[36m  qr(A::SparseMatrixCSC; tol=_default_tol(A), ordering=ORDERING_DEFAULT) -> QRSparse\u001b[39m\n",
              "\n",
              "  Compute the \u001b[36mQR\u001b[39m factorization of a sparse matrix \u001b[36mA\u001b[39m. Fill-reducing row and\n",
              "  column permutations are used such that \u001b[36mF.R = F.Q'*A[F.prow,F.pcol]\u001b[39m. The main\n",
              "  application of this type is to solve least squares or underdetermined\n",
              "  problems with \u001b[36m\\\u001b[39m. The function calls the C library SPQR.\n",
              "\n",
              "\u001b[36m\u001b[1m  │ \u001b[22m\u001b[39m\u001b[36m\u001b[1mNote\u001b[22m\u001b[39m\n",
              "\u001b[36m\u001b[1m  │\u001b[22m\u001b[39m\n",
              "\u001b[36m\u001b[1m  │\u001b[22m\u001b[39m  \u001b[36mqr(A::SparseMatrixCSC)\u001b[39m uses the SPQR library that is part of\n",
              "\u001b[36m\u001b[1m  │\u001b[22m\u001b[39m  SuiteSparse. As this library only supports sparse matrices with\n",
              "\u001b[36m\u001b[1m  │\u001b[22m\u001b[39m  \u001b[36mFloat64\u001b[39m or \u001b[36mComplexF64\u001b[39m elements, as of Julia v1.4 \u001b[36mqr\u001b[39m converts \u001b[36mA\u001b[39m\n",
              "\u001b[36m\u001b[1m  │\u001b[22m\u001b[39m  into a copy that is of type \u001b[36mSparseMatrixCSC{Float64}\u001b[39m or\n",
              "\u001b[36m\u001b[1m  │\u001b[22m\u001b[39m  \u001b[36mSparseMatrixCSC{ComplexF64}\u001b[39m as appropriate.\n",
              "\n",
              "\u001b[1m  Examples\u001b[22m\n",
              "\u001b[1m  ≡≡≡≡≡≡≡≡≡≡\u001b[22m\n",
              "\n",
              "\u001b[36m  julia> A = sparse([1,2,3,4], [1,1,2,2], [1.0,1.0,1.0,1.0])\u001b[39m\n",
              "\u001b[36m  4×2 SparseMatrixCSC{Float64, Int64} with 4 stored entries:\u001b[39m\n",
              "\u001b[36m   1.0   ⋅\u001b[39m\n",
              "\u001b[36m   1.0   ⋅\u001b[39m\n",
              "\u001b[36m    ⋅   1.0\u001b[39m\n",
              "\u001b[36m    ⋅   1.0\u001b[39m\n",
              "\u001b[36m  \u001b[39m\n",
              "\u001b[36m  julia> qr(A)\u001b[39m\n",
              "\u001b[36m  SuiteSparse.SPQR.QRSparse{Float64, Int64}\u001b[39m\n",
              "\u001b[36m  Q factor:\u001b[39m\n",
              "\u001b[36m  4×4 SuiteSparse.SPQR.QRSparseQ{Float64, Int64}:\u001b[39m\n",
              "\u001b[36m   -0.707107   0.0        0.0       -0.707107\u001b[39m\n",
              "\u001b[36m    0.0       -0.707107  -0.707107   0.0\u001b[39m\n",
              "\u001b[36m    0.0       -0.707107   0.707107   0.0\u001b[39m\n",
              "\u001b[36m   -0.707107   0.0        0.0        0.707107\u001b[39m\n",
              "\u001b[36m  R factor:\u001b[39m\n",
              "\u001b[36m  2×2 SparseMatrixCSC{Float64, Int64} with 2 stored entries:\u001b[39m\n",
              "\u001b[36m   -1.41421    ⋅\u001b[39m\n",
              "\u001b[36m     ⋅       -1.41421\u001b[39m\n",
              "\u001b[36m  Row permutation:\u001b[39m\n",
              "\u001b[36m  4-element Vector{Int64}:\u001b[39m\n",
              "\u001b[36m   1\u001b[39m\n",
              "\u001b[36m   3\u001b[39m\n",
              "\u001b[36m   4\u001b[39m\n",
              "\u001b[36m   2\u001b[39m\n",
              "\u001b[36m  Column permutation:\u001b[39m\n",
              "\u001b[36m  2-element Vector{Int64}:\u001b[39m\n",
              "\u001b[36m   1\u001b[39m\n",
              "\u001b[36m   2\u001b[39m"
            ],
            "text/markdown": "```\nqr(A, pivot = NoPivot(); blocksize) -> F\n```\n\nCompute the QR factorization of the matrix `A`: an orthogonal (or unitary if `A` is complex-valued) matrix `Q`, and an upper triangular matrix `R` such that\n\n$$\nA = Q R\n$$\n\nThe returned object `F` stores the factorization in a packed format:\n\n  * if `pivot == ColumnNorm()` then `F` is a [`QRPivoted`](@ref) object,\n  * otherwise if the element type of `A` is a BLAS type ([`Float32`](@ref), [`Float64`](@ref), `ComplexF32` or `ComplexF64`), then `F` is a [`QRCompactWY`](@ref) object,\n  * otherwise `F` is a [`QR`](@ref) object.\n\nThe individual components of the decomposition `F` can be retrieved via property accessors:\n\n  * `F.Q`: the orthogonal/unitary matrix `Q`\n  * `F.R`: the upper triangular matrix `R`\n  * `F.p`: the permutation vector of the pivot ([`QRPivoted`](@ref) only)\n  * `F.P`: the permutation matrix of the pivot ([`QRPivoted`](@ref) only)\n\nIterating the decomposition produces the components `Q`, `R`, and if extant `p`.\n\nThe following functions are available for the `QR` objects: [`inv`](@ref), [`size`](@ref), and [`\\`](@ref). When `A` is rectangular, `\\` will return a least squares solution and if the solution is not unique, the one with smallest norm is returned. When `A` is not full rank, factorization with (column) pivoting is required to obtain a minimum norm solution.\n\nMultiplication with respect to either full/square or non-full/square `Q` is allowed, i.e. both `F.Q*F.R` and `F.Q*A` are supported. A `Q` matrix can be converted into a regular matrix with [`Matrix`](@ref).  This operation returns the \"thin\" Q factor, i.e., if `A` is `m`×`n` with `m>=n`, then `Matrix(F.Q)` yields an `m`×`n` matrix with orthonormal columns.  To retrieve the \"full\" Q factor, an `m`×`m` orthogonal matrix, use `F.Q*Matrix(I,m,m)`.  If `m<=n`, then `Matrix(F.Q)` yields an `m`×`m` orthogonal matrix.\n\nThe block size for QR decomposition can be specified by keyword argument `blocksize :: Integer` when `pivot == NoPivot()` and `A isa StridedMatrix{<:BlasFloat}`. It is ignored when `blocksize > minimum(size(A))`.  See [`QRCompactWY`](@ref).\n\n!!! compat \"Julia 1.4\"\n    The `blocksize` keyword argument requires Julia 1.4 or later.\n\n\n# Examples\n\n```jldoctest\njulia> A = [3.0 -6.0; 4.0 -8.0; 0.0 1.0]\n3×2 Matrix{Float64}:\n 3.0  -6.0\n 4.0  -8.0\n 0.0   1.0\n\njulia> F = qr(A)\nLinearAlgebra.QRCompactWY{Float64, Matrix{Float64}}\nQ factor:\n3×3 LinearAlgebra.QRCompactWYQ{Float64, Matrix{Float64}}:\n -0.6   0.0   0.8\n -0.8   0.0  -0.6\n  0.0  -1.0   0.0\nR factor:\n2×2 Matrix{Float64}:\n -5.0  10.0\n  0.0  -1.0\n\njulia> F.Q * F.R == A\ntrue\n```\n\n!!! note\n    `qr` returns multiple types because LAPACK uses several representations that minimize the memory storage requirements of products of Householder elementary reflectors, so that the `Q` and `R` matrices can be stored compactly rather as two separate dense matrices.\n\n\n---\n\n```\nqr(A::SparseMatrixCSC; tol=_default_tol(A), ordering=ORDERING_DEFAULT) -> QRSparse\n```\n\nCompute the `QR` factorization of a sparse matrix `A`. Fill-reducing row and column permutations are used such that `F.R = F.Q'*A[F.prow,F.pcol]`. The main application of this type is to solve least squares or underdetermined problems with [`\\`](@ref). The function calls the C library SPQR.\n\n!!! note\n    `qr(A::SparseMatrixCSC)` uses the SPQR library that is part of SuiteSparse. As this library only supports sparse matrices with [`Float64`](@ref) or `ComplexF64` elements, as of Julia v1.4 `qr` converts `A` into a copy that is of type `SparseMatrixCSC{Float64}` or `SparseMatrixCSC{ComplexF64}` as appropriate.\n\n\n# Examples\n\n```jldoctest\njulia> A = sparse([1,2,3,4], [1,1,2,2], [1.0,1.0,1.0,1.0])\n4×2 SparseMatrixCSC{Float64, Int64} with 4 stored entries:\n 1.0   ⋅\n 1.0   ⋅\n  ⋅   1.0\n  ⋅   1.0\n\njulia> qr(A)\nSuiteSparse.SPQR.QRSparse{Float64, Int64}\nQ factor:\n4×4 SuiteSparse.SPQR.QRSparseQ{Float64, Int64}:\n -0.707107   0.0        0.0       -0.707107\n  0.0       -0.707107  -0.707107   0.0\n  0.0       -0.707107   0.707107   0.0\n -0.707107   0.0        0.0        0.707107\nR factor:\n2×2 SparseMatrixCSC{Float64, Int64} with 2 stored entries:\n -1.41421    ⋅\n   ⋅       -1.41421\nRow permutation:\n4-element Vector{Int64}:\n 1\n 3\n 4\n 2\nColumn permutation:\n2-element Vector{Int64}:\n 1\n 2\n```\n",
            "text/latex": "\\begin{verbatim}\nqr(A, pivot = NoPivot(); blocksize) -> F\n\\end{verbatim}\nCompute the QR factorization of the matrix \\texttt{A}: an orthogonal (or unitary if \\texttt{A} is complex-valued) matrix \\texttt{Q}, and an upper triangular matrix \\texttt{R} such that\n\n$$A = Q R$$\nThe returned object \\texttt{F} stores the factorization in a packed format:\n\n\\begin{itemize}\n\\item if \\texttt{pivot == ColumnNorm()} then \\texttt{F} is a \\href{@ref}{\\texttt{QRPivoted}} object,\n\n\n\\item otherwise if the element type of \\texttt{A} is a BLAS type (\\href{@ref}{\\texttt{Float32}}, \\href{@ref}{\\texttt{Float64}}, \\texttt{ComplexF32} or \\texttt{ComplexF64}), then \\texttt{F} is a \\href{@ref}{\\texttt{QRCompactWY}} object,\n\n\n\\item otherwise \\texttt{F} is a \\href{@ref}{\\texttt{QR}} object.\n\n\\end{itemize}\nThe individual components of the decomposition \\texttt{F} can be retrieved via property accessors:\n\n\\begin{itemize}\n\\item \\texttt{F.Q}: the orthogonal/unitary matrix \\texttt{Q}\n\n\n\\item \\texttt{F.R}: the upper triangular matrix \\texttt{R}\n\n\n\\item \\texttt{F.p}: the permutation vector of the pivot (\\href{@ref}{\\texttt{QRPivoted}} only)\n\n\n\\item \\texttt{F.P}: the permutation matrix of the pivot (\\href{@ref}{\\texttt{QRPivoted}} only)\n\n\\end{itemize}\nIterating the decomposition produces the components \\texttt{Q}, \\texttt{R}, and if extant \\texttt{p}.\n\nThe following functions are available for the \\texttt{QR} objects: \\href{@ref}{\\texttt{inv}}, \\href{@ref}{\\texttt{size}}, and \\href{@ref}{\\texttt{{\\textbackslash}}}. When \\texttt{A} is rectangular, \\texttt{{\\textbackslash}} will return a least squares solution and if the solution is not unique, the one with smallest norm is returned. When \\texttt{A} is not full rank, factorization with (column) pivoting is required to obtain a minimum norm solution.\n\nMultiplication with respect to either full/square or non-full/square \\texttt{Q} is allowed, i.e. both \\texttt{F.Q*F.R} and \\texttt{F.Q*A} are supported. A \\texttt{Q} matrix can be converted into a regular matrix with \\href{@ref}{\\texttt{Matrix}}.  This operation returns the \"thin\" Q factor, i.e., if \\texttt{A} is \\texttt{m}×\\texttt{n} with \\texttt{m>=n}, then \\texttt{Matrix(F.Q)} yields an \\texttt{m}×\\texttt{n} matrix with orthonormal columns.  To retrieve the \"full\" Q factor, an \\texttt{m}×\\texttt{m} orthogonal matrix, use \\texttt{F.Q*Matrix(I,m,m)}.  If \\texttt{m<=n}, then \\texttt{Matrix(F.Q)} yields an \\texttt{m}×\\texttt{m} orthogonal matrix.\n\nThe block size for QR decomposition can be specified by keyword argument \\texttt{blocksize :: Integer} when \\texttt{pivot == NoPivot()} and \\texttt{A isa StridedMatrix\\{<:BlasFloat\\}}. It is ignored when \\texttt{blocksize > minimum(size(A))}.  See \\href{@ref}{\\texttt{QRCompactWY}}.\n\n\\begin{quote}\n\\textbf{compat}\n\nJulia 1.4\n\nThe \\texttt{blocksize} keyword argument requires Julia 1.4 or later.\n\n\\end{quote}\n\\section{Examples}\n\\begin{verbatim}\njulia> A = [3.0 -6.0; 4.0 -8.0; 0.0 1.0]\n3×2 Matrix{Float64}:\n 3.0  -6.0\n 4.0  -8.0\n 0.0   1.0\n\njulia> F = qr(A)\nLinearAlgebra.QRCompactWY{Float64, Matrix{Float64}}\nQ factor:\n3×3 LinearAlgebra.QRCompactWYQ{Float64, Matrix{Float64}}:\n -0.6   0.0   0.8\n -0.8   0.0  -0.6\n  0.0  -1.0   0.0\nR factor:\n2×2 Matrix{Float64}:\n -5.0  10.0\n  0.0  -1.0\n\njulia> F.Q * F.R == A\ntrue\n\\end{verbatim}\n\\begin{quote}\n\\textbf{note}\n\nNote\n\n\\texttt{qr} returns multiple types because LAPACK uses several representations that minimize the memory storage requirements of products of Householder elementary reflectors, so that the \\texttt{Q} and \\texttt{R} matrices can be stored compactly rather as two separate dense matrices.\n\n\\end{quote}\n\\rule{\\textwidth}{1pt}\n\\begin{verbatim}\nqr(A::SparseMatrixCSC; tol=_default_tol(A), ordering=ORDERING_DEFAULT) -> QRSparse\n\\end{verbatim}\nCompute the \\texttt{QR} factorization of a sparse matrix \\texttt{A}. Fill-reducing row and column permutations are used such that \\texttt{F.R = F.Q'*A[F.prow,F.pcol]}. The main application of this type is to solve least squares or underdetermined problems with \\href{@ref}{\\texttt{{\\textbackslash}}}. The function calls the C library SPQR.\n\n\\begin{quote}\n\\textbf{note}\n\nNote\n\n\\texttt{qr(A::SparseMatrixCSC)} uses the SPQR library that is part of SuiteSparse. As this library only supports sparse matrices with \\href{@ref}{\\texttt{Float64}} or \\texttt{ComplexF64} elements, as of Julia v1.4 \\texttt{qr} converts \\texttt{A} into a copy that is of type \\texttt{SparseMatrixCSC\\{Float64\\}} or \\texttt{SparseMatrixCSC\\{ComplexF64\\}} as appropriate.\n\n\\end{quote}\n\\section{Examples}\n\\begin{verbatim}\njulia> A = sparse([1,2,3,4], [1,1,2,2], [1.0,1.0,1.0,1.0])\n4×2 SparseMatrixCSC{Float64, Int64} with 4 stored entries:\n 1.0   ⋅\n 1.0   ⋅\n  ⋅   1.0\n  ⋅   1.0\n\njulia> qr(A)\nSuiteSparse.SPQR.QRSparse{Float64, Int64}\nQ factor:\n4×4 SuiteSparse.SPQR.QRSparseQ{Float64, Int64}:\n -0.707107   0.0        0.0       -0.707107\n  0.0       -0.707107  -0.707107   0.0\n  0.0       -0.707107   0.707107   0.0\n -0.707107   0.0        0.0        0.707107\nR factor:\n2×2 SparseMatrixCSC{Float64, Int64} with 2 stored entries:\n -1.41421    ⋅\n   ⋅       -1.41421\nRow permutation:\n4-element Vector{Int64}:\n 1\n 3\n 4\n 2\nColumn permutation:\n2-element Vector{Int64}:\n 1\n 2\n\\end{verbatim}\n"
          },
          "metadata": {},
          "execution_count": 47
        }
      ]
    }
  ],
  "metadata": {
    "accelerator": "GPU",
    "colab": {
      "collapsed_sections": [],
      "name": "Julia_colab.ipynb",
      "provenance": []
    },
    "kernelspec": {
      "display_name": "Julia",
      "language": "julia",
      "name": "julia"
    },
    "language_info": {
      "file_extension": ".jl",
      "mimetype": "application/julia",
      "name": "julia"
    }
  },
  "nbformat": 4,
  "nbformat_minor": 0
}